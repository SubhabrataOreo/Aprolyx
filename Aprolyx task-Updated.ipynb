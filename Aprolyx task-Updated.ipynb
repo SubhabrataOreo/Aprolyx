{
 "cells": [
  {
   "cell_type": "code",
   "execution_count": 1,
   "metadata": {},
   "outputs": [],
   "source": [
    "#importing important libraries\n",
    "import numpy as np\n",
    "import pandas as pd\n",
    "import matplotlib.pyplot as plt\n",
    "import seaborn as sns\n",
    "%matplotlib inline"
   ]
  },
  {
   "cell_type": "code",
   "execution_count": 2,
   "metadata": {},
   "outputs": [
    {
     "data": {
      "text/html": [
       "<div>\n",
       "<style scoped>\n",
       "    .dataframe tbody tr th:only-of-type {\n",
       "        vertical-align: middle;\n",
       "    }\n",
       "\n",
       "    .dataframe tbody tr th {\n",
       "        vertical-align: top;\n",
       "    }\n",
       "\n",
       "    .dataframe thead th {\n",
       "        text-align: right;\n",
       "    }\n",
       "</style>\n",
       "<table border=\"1\" class=\"dataframe\">\n",
       "  <thead>\n",
       "    <tr style=\"text-align: right;\">\n",
       "      <th></th>\n",
       "      <th>TimeStamp</th>\n",
       "      <th>variable 2</th>\n",
       "      <th>variable 3</th>\n",
       "      <th>variable 4</th>\n",
       "      <th>variable 5</th>\n",
       "      <th>variable 6</th>\n",
       "      <th>variable 7</th>\n",
       "    </tr>\n",
       "  </thead>\n",
       "  <tbody>\n",
       "    <tr>\n",
       "      <th>0</th>\n",
       "      <td>2019-11-05 20:21:24.089399+00:00</td>\n",
       "      <td>208.786</td>\n",
       "      <td>179.392</td>\n",
       "      <td>757.987</td>\n",
       "      <td>124.053</td>\n",
       "      <td>NaN</td>\n",
       "      <td>NaN</td>\n",
       "    </tr>\n",
       "    <tr>\n",
       "      <th>1</th>\n",
       "      <td>2019-11-05 20:21:25.220399+00:00</td>\n",
       "      <td>211.404</td>\n",
       "      <td>179.324</td>\n",
       "      <td>758.923</td>\n",
       "      <td>123.952</td>\n",
       "      <td>NaN</td>\n",
       "      <td>NaN</td>\n",
       "    </tr>\n",
       "    <tr>\n",
       "      <th>2</th>\n",
       "      <td>2019-11-05 20:21:28.242400+00:00</td>\n",
       "      <td>220.400</td>\n",
       "      <td>179.732</td>\n",
       "      <td>758.762</td>\n",
       "      <td>124.065</td>\n",
       "      <td>NaN</td>\n",
       "      <td>NaN</td>\n",
       "    </tr>\n",
       "    <tr>\n",
       "      <th>3</th>\n",
       "      <td>2019-11-05 20:21:29.642399+00:00</td>\n",
       "      <td>220.529</td>\n",
       "      <td>179.843</td>\n",
       "      <td>756.403</td>\n",
       "      <td>123.605</td>\n",
       "      <td>179.369</td>\n",
       "      <td>180.033</td>\n",
       "    </tr>\n",
       "    <tr>\n",
       "      <th>4</th>\n",
       "      <td>2019-11-05 20:21:30.145400+00:00</td>\n",
       "      <td>225.749</td>\n",
       "      <td>179.489</td>\n",
       "      <td>757.247</td>\n",
       "      <td>123.951</td>\n",
       "      <td>179.856</td>\n",
       "      <td>180.095</td>\n",
       "    </tr>\n",
       "  </tbody>\n",
       "</table>\n",
       "</div>"
      ],
      "text/plain": [
       "                          TimeStamp  variable 2  variable 3  variable 4  \\\n",
       "0  2019-11-05 20:21:24.089399+00:00     208.786     179.392     757.987   \n",
       "1  2019-11-05 20:21:25.220399+00:00     211.404     179.324     758.923   \n",
       "2  2019-11-05 20:21:28.242400+00:00     220.400     179.732     758.762   \n",
       "3  2019-11-05 20:21:29.642399+00:00     220.529     179.843     756.403   \n",
       "4  2019-11-05 20:21:30.145400+00:00     225.749     179.489     757.247   \n",
       "\n",
       "   variable 5  variable 6  variable 7  \n",
       "0     124.053         NaN         NaN  \n",
       "1     123.952         NaN         NaN  \n",
       "2     124.065         NaN         NaN  \n",
       "3     123.605     179.369     180.033  \n",
       "4     123.951     179.856     180.095  "
      ]
     },
     "execution_count": 2,
     "metadata": {},
     "output_type": "execute_result"
    }
   ],
   "source": [
    "#loading the dataset\n",
    "df=pd.read_csv(\"datafile_1.csv\")\n",
    "df.head()     #top 5 entries of the dataset"
   ]
  },
  {
   "cell_type": "code",
   "execution_count": 3,
   "metadata": {},
   "outputs": [
    {
     "data": {
      "text/plain": [
       "Index(['TimeStamp', 'variable 2', 'variable 3', 'variable 4', 'variable 5',\n",
       "       'variable 6', 'variable 7'],\n",
       "      dtype='object')"
      ]
     },
     "execution_count": 3,
     "metadata": {},
     "output_type": "execute_result"
    }
   ],
   "source": [
    "#Names of the columns in the data file\n",
    "df.columns"
   ]
  },
  {
   "cell_type": "markdown",
   "metadata": {},
   "source": [
    "**The column names are 'TimeStamp','variable 2','variable 3','variable 4','variable 5','variable 6', and 'variable 7'.**"
   ]
  },
  {
   "cell_type": "code",
   "execution_count": 4,
   "metadata": {},
   "outputs": [
    {
     "data": {
      "text/plain": [
       "(233418, 7)"
      ]
     },
     "execution_count": 4,
     "metadata": {},
     "output_type": "execute_result"
    }
   ],
   "source": [
    "#Size of the dataset/table\n",
    "p=df.shape\n",
    "p"
   ]
  },
  {
   "cell_type": "code",
   "execution_count": 5,
   "metadata": {},
   "outputs": [
    {
     "name": "stdout",
     "output_type": "stream",
     "text": [
      "The table consists of 233418 rows and 7 columns\n"
     ]
    }
   ],
   "source": [
    "print(\"The table consists of {}\".format(p[0]), \"rows and {}\".format(p[1]), \"columns\")"
   ]
  },
  {
   "cell_type": "code",
   "execution_count": 6,
   "metadata": {},
   "outputs": [
    {
     "data": {
      "text/plain": [
       "TimeStamp     0.000000\n",
       "variable 2    0.000000\n",
       "variable 3    0.000000\n",
       "variable 4    0.000000\n",
       "variable 5    0.000000\n",
       "variable 6    0.628105\n",
       "variable 7    0.259693\n",
       "dtype: float64"
      ]
     },
     "execution_count": 6,
     "metadata": {},
     "output_type": "execute_result"
    }
   ],
   "source": [
    "#Identifying the percentage of missing values in each column\n",
    "df.isnull().sum()/p[0]"
   ]
  },
  {
   "cell_type": "markdown",
   "metadata": {},
   "source": [
    "So, there are two columns, 'variable 6' and 'variable 7' having missing values. "
   ]
  },
  {
   "cell_type": "code",
   "execution_count": 7,
   "metadata": {},
   "outputs": [
    {
     "data": {
      "text/html": [
       "<div>\n",
       "<style scoped>\n",
       "    .dataframe tbody tr th:only-of-type {\n",
       "        vertical-align: middle;\n",
       "    }\n",
       "\n",
       "    .dataframe tbody tr th {\n",
       "        vertical-align: top;\n",
       "    }\n",
       "\n",
       "    .dataframe thead th {\n",
       "        text-align: right;\n",
       "    }\n",
       "</style>\n",
       "<table border=\"1\" class=\"dataframe\">\n",
       "  <thead>\n",
       "    <tr style=\"text-align: right;\">\n",
       "      <th></th>\n",
       "      <th>variable 6</th>\n",
       "    </tr>\n",
       "  </thead>\n",
       "  <tbody>\n",
       "    <tr>\n",
       "      <th>0</th>\n",
       "      <td>NaN</td>\n",
       "    </tr>\n",
       "    <tr>\n",
       "      <th>1</th>\n",
       "      <td>NaN</td>\n",
       "    </tr>\n",
       "    <tr>\n",
       "      <th>2</th>\n",
       "      <td>NaN</td>\n",
       "    </tr>\n",
       "    <tr>\n",
       "      <th>3</th>\n",
       "      <td>179.369</td>\n",
       "    </tr>\n",
       "    <tr>\n",
       "      <th>4</th>\n",
       "      <td>179.856</td>\n",
       "    </tr>\n",
       "    <tr>\n",
       "      <th>...</th>\n",
       "      <td>...</td>\n",
       "    </tr>\n",
       "    <tr>\n",
       "      <th>233413</th>\n",
       "      <td>177.540</td>\n",
       "    </tr>\n",
       "    <tr>\n",
       "      <th>233414</th>\n",
       "      <td>NaN</td>\n",
       "    </tr>\n",
       "    <tr>\n",
       "      <th>233415</th>\n",
       "      <td>NaN</td>\n",
       "    </tr>\n",
       "    <tr>\n",
       "      <th>233416</th>\n",
       "      <td>NaN</td>\n",
       "    </tr>\n",
       "    <tr>\n",
       "      <th>233417</th>\n",
       "      <td>NaN</td>\n",
       "    </tr>\n",
       "  </tbody>\n",
       "</table>\n",
       "<p>233418 rows × 1 columns</p>\n",
       "</div>"
      ],
      "text/plain": [
       "        variable 6\n",
       "0              NaN\n",
       "1              NaN\n",
       "2              NaN\n",
       "3          179.369\n",
       "4          179.856\n",
       "...            ...\n",
       "233413     177.540\n",
       "233414         NaN\n",
       "233415         NaN\n",
       "233416         NaN\n",
       "233417         NaN\n",
       "\n",
       "[233418 rows x 1 columns]"
      ]
     },
     "execution_count": 7,
     "metadata": {},
     "output_type": "execute_result"
    }
   ],
   "source": [
    "#Which column is having more than 50 % missing values\n",
    "df.loc[:,df.isnull().sum()/p[0]>0.50]"
   ]
  },
  {
   "cell_type": "markdown",
   "metadata": {},
   "source": [
    "**Hence only the column 'variable 6' is having more than 50% missing values.**"
   ]
  },
  {
   "cell_type": "code",
   "execution_count": 8,
   "metadata": {},
   "outputs": [
    {
     "data": {
      "text/html": [
       "<div>\n",
       "<style scoped>\n",
       "    .dataframe tbody tr th:only-of-type {\n",
       "        vertical-align: middle;\n",
       "    }\n",
       "\n",
       "    .dataframe tbody tr th {\n",
       "        vertical-align: top;\n",
       "    }\n",
       "\n",
       "    .dataframe thead th {\n",
       "        text-align: right;\n",
       "    }\n",
       "</style>\n",
       "<table border=\"1\" class=\"dataframe\">\n",
       "  <thead>\n",
       "    <tr style=\"text-align: right;\">\n",
       "      <th></th>\n",
       "      <th>TimeStamp</th>\n",
       "      <th>variable 2</th>\n",
       "      <th>variable 3</th>\n",
       "      <th>variable 4</th>\n",
       "      <th>variable 5</th>\n",
       "      <th>variable 7</th>\n",
       "    </tr>\n",
       "  </thead>\n",
       "  <tbody>\n",
       "    <tr>\n",
       "      <th>0</th>\n",
       "      <td>2019-11-05 20:21:24.089399+00:00</td>\n",
       "      <td>208.786</td>\n",
       "      <td>179.392</td>\n",
       "      <td>757.987</td>\n",
       "      <td>124.053</td>\n",
       "      <td>NaN</td>\n",
       "    </tr>\n",
       "    <tr>\n",
       "      <th>1</th>\n",
       "      <td>2019-11-05 20:21:25.220399+00:00</td>\n",
       "      <td>211.404</td>\n",
       "      <td>179.324</td>\n",
       "      <td>758.923</td>\n",
       "      <td>123.952</td>\n",
       "      <td>NaN</td>\n",
       "    </tr>\n",
       "    <tr>\n",
       "      <th>2</th>\n",
       "      <td>2019-11-05 20:21:28.242400+00:00</td>\n",
       "      <td>220.400</td>\n",
       "      <td>179.732</td>\n",
       "      <td>758.762</td>\n",
       "      <td>124.065</td>\n",
       "      <td>NaN</td>\n",
       "    </tr>\n",
       "    <tr>\n",
       "      <th>3</th>\n",
       "      <td>2019-11-05 20:21:29.642399+00:00</td>\n",
       "      <td>220.529</td>\n",
       "      <td>179.843</td>\n",
       "      <td>756.403</td>\n",
       "      <td>123.605</td>\n",
       "      <td>180.033</td>\n",
       "    </tr>\n",
       "    <tr>\n",
       "      <th>4</th>\n",
       "      <td>2019-11-05 20:21:30.145400+00:00</td>\n",
       "      <td>225.749</td>\n",
       "      <td>179.489</td>\n",
       "      <td>757.247</td>\n",
       "      <td>123.951</td>\n",
       "      <td>180.095</td>\n",
       "    </tr>\n",
       "    <tr>\n",
       "      <th>...</th>\n",
       "      <td>...</td>\n",
       "      <td>...</td>\n",
       "      <td>...</td>\n",
       "      <td>...</td>\n",
       "      <td>...</td>\n",
       "      <td>...</td>\n",
       "    </tr>\n",
       "    <tr>\n",
       "      <th>233413</th>\n",
       "      <td>2020-01-21 01:45:45.593599+00:00</td>\n",
       "      <td>203.539</td>\n",
       "      <td>178.067</td>\n",
       "      <td>756.155</td>\n",
       "      <td>123.612</td>\n",
       "      <td>NaN</td>\n",
       "    </tr>\n",
       "    <tr>\n",
       "      <th>233414</th>\n",
       "      <td>2020-01-21 01:48:11.389599+00:00</td>\n",
       "      <td>203.657</td>\n",
       "      <td>175.850</td>\n",
       "      <td>749.677</td>\n",
       "      <td>123.717</td>\n",
       "      <td>175.917</td>\n",
       "    </tr>\n",
       "    <tr>\n",
       "      <th>233415</th>\n",
       "      <td>2020-01-21 01:48:13.519599+00:00</td>\n",
       "      <td>203.998</td>\n",
       "      <td>175.580</td>\n",
       "      <td>749.400</td>\n",
       "      <td>124.359</td>\n",
       "      <td>176.346</td>\n",
       "    </tr>\n",
       "    <tr>\n",
       "      <th>233416</th>\n",
       "      <td>2020-01-21 01:50:05.545599+00:00</td>\n",
       "      <td>218.187</td>\n",
       "      <td>175.731</td>\n",
       "      <td>748.745</td>\n",
       "      <td>123.731</td>\n",
       "      <td>176.132</td>\n",
       "    </tr>\n",
       "    <tr>\n",
       "      <th>233417</th>\n",
       "      <td>2020-01-21 01:53:14.432600+00:00</td>\n",
       "      <td>209.173</td>\n",
       "      <td>176.086</td>\n",
       "      <td>756.051</td>\n",
       "      <td>124.029</td>\n",
       "      <td>176.118</td>\n",
       "    </tr>\n",
       "  </tbody>\n",
       "</table>\n",
       "<p>233418 rows × 6 columns</p>\n",
       "</div>"
      ],
      "text/plain": [
       "                               TimeStamp  variable 2  variable 3  variable 4  \\\n",
       "0       2019-11-05 20:21:24.089399+00:00     208.786     179.392     757.987   \n",
       "1       2019-11-05 20:21:25.220399+00:00     211.404     179.324     758.923   \n",
       "2       2019-11-05 20:21:28.242400+00:00     220.400     179.732     758.762   \n",
       "3       2019-11-05 20:21:29.642399+00:00     220.529     179.843     756.403   \n",
       "4       2019-11-05 20:21:30.145400+00:00     225.749     179.489     757.247   \n",
       "...                                  ...         ...         ...         ...   \n",
       "233413  2020-01-21 01:45:45.593599+00:00     203.539     178.067     756.155   \n",
       "233414  2020-01-21 01:48:11.389599+00:00     203.657     175.850     749.677   \n",
       "233415  2020-01-21 01:48:13.519599+00:00     203.998     175.580     749.400   \n",
       "233416  2020-01-21 01:50:05.545599+00:00     218.187     175.731     748.745   \n",
       "233417  2020-01-21 01:53:14.432600+00:00     209.173     176.086     756.051   \n",
       "\n",
       "        variable 5  variable 7  \n",
       "0          124.053         NaN  \n",
       "1          123.952         NaN  \n",
       "2          124.065         NaN  \n",
       "3          123.605     180.033  \n",
       "4          123.951     180.095  \n",
       "...            ...         ...  \n",
       "233413     123.612         NaN  \n",
       "233414     123.717     175.917  \n",
       "233415     124.359     176.346  \n",
       "233416     123.731     176.132  \n",
       "233417     124.029     176.118  \n",
       "\n",
       "[233418 rows x 6 columns]"
      ]
     },
     "execution_count": 8,
     "metadata": {},
     "output_type": "execute_result"
    }
   ],
   "source": [
    "#Deleting the column 'variable 6'\n",
    "df.drop(['variable 6'], axis=1)"
   ]
  },
  {
   "cell_type": "markdown",
   "metadata": {},
   "source": [
    "As we can see, 'variable 6' column is deleted."
   ]
  },
  {
   "cell_type": "code",
   "execution_count": 9,
   "metadata": {},
   "outputs": [],
   "source": [
    "#Function to Drop the columns with more than 50% missing values\n",
    "def remove_null(data):\n",
    "    data = data.loc[:, data.isnull().mean() <= 0.50]       #indexing only the columns having less than or equal to 50% missing values\n",
    "    return data"
   ]
  },
  {
   "cell_type": "code",
   "execution_count": 10,
   "metadata": {},
   "outputs": [
    {
     "data": {
      "text/html": [
       "<div>\n",
       "<style scoped>\n",
       "    .dataframe tbody tr th:only-of-type {\n",
       "        vertical-align: middle;\n",
       "    }\n",
       "\n",
       "    .dataframe tbody tr th {\n",
       "        vertical-align: top;\n",
       "    }\n",
       "\n",
       "    .dataframe thead th {\n",
       "        text-align: right;\n",
       "    }\n",
       "</style>\n",
       "<table border=\"1\" class=\"dataframe\">\n",
       "  <thead>\n",
       "    <tr style=\"text-align: right;\">\n",
       "      <th></th>\n",
       "      <th>TimeStamp</th>\n",
       "      <th>variable 2</th>\n",
       "      <th>variable 3</th>\n",
       "      <th>variable 4</th>\n",
       "      <th>variable 5</th>\n",
       "      <th>variable 7</th>\n",
       "    </tr>\n",
       "  </thead>\n",
       "  <tbody>\n",
       "    <tr>\n",
       "      <th>0</th>\n",
       "      <td>2019-11-05 20:21:24.089399+00:00</td>\n",
       "      <td>208.786</td>\n",
       "      <td>179.392</td>\n",
       "      <td>757.987</td>\n",
       "      <td>124.053</td>\n",
       "      <td>NaN</td>\n",
       "    </tr>\n",
       "    <tr>\n",
       "      <th>1</th>\n",
       "      <td>2019-11-05 20:21:25.220399+00:00</td>\n",
       "      <td>211.404</td>\n",
       "      <td>179.324</td>\n",
       "      <td>758.923</td>\n",
       "      <td>123.952</td>\n",
       "      <td>NaN</td>\n",
       "    </tr>\n",
       "    <tr>\n",
       "      <th>2</th>\n",
       "      <td>2019-11-05 20:21:28.242400+00:00</td>\n",
       "      <td>220.400</td>\n",
       "      <td>179.732</td>\n",
       "      <td>758.762</td>\n",
       "      <td>124.065</td>\n",
       "      <td>NaN</td>\n",
       "    </tr>\n",
       "    <tr>\n",
       "      <th>3</th>\n",
       "      <td>2019-11-05 20:21:29.642399+00:00</td>\n",
       "      <td>220.529</td>\n",
       "      <td>179.843</td>\n",
       "      <td>756.403</td>\n",
       "      <td>123.605</td>\n",
       "      <td>180.033</td>\n",
       "    </tr>\n",
       "    <tr>\n",
       "      <th>4</th>\n",
       "      <td>2019-11-05 20:21:30.145400+00:00</td>\n",
       "      <td>225.749</td>\n",
       "      <td>179.489</td>\n",
       "      <td>757.247</td>\n",
       "      <td>123.951</td>\n",
       "      <td>180.095</td>\n",
       "    </tr>\n",
       "    <tr>\n",
       "      <th>...</th>\n",
       "      <td>...</td>\n",
       "      <td>...</td>\n",
       "      <td>...</td>\n",
       "      <td>...</td>\n",
       "      <td>...</td>\n",
       "      <td>...</td>\n",
       "    </tr>\n",
       "    <tr>\n",
       "      <th>233413</th>\n",
       "      <td>2020-01-21 01:45:45.593599+00:00</td>\n",
       "      <td>203.539</td>\n",
       "      <td>178.067</td>\n",
       "      <td>756.155</td>\n",
       "      <td>123.612</td>\n",
       "      <td>NaN</td>\n",
       "    </tr>\n",
       "    <tr>\n",
       "      <th>233414</th>\n",
       "      <td>2020-01-21 01:48:11.389599+00:00</td>\n",
       "      <td>203.657</td>\n",
       "      <td>175.850</td>\n",
       "      <td>749.677</td>\n",
       "      <td>123.717</td>\n",
       "      <td>175.917</td>\n",
       "    </tr>\n",
       "    <tr>\n",
       "      <th>233415</th>\n",
       "      <td>2020-01-21 01:48:13.519599+00:00</td>\n",
       "      <td>203.998</td>\n",
       "      <td>175.580</td>\n",
       "      <td>749.400</td>\n",
       "      <td>124.359</td>\n",
       "      <td>176.346</td>\n",
       "    </tr>\n",
       "    <tr>\n",
       "      <th>233416</th>\n",
       "      <td>2020-01-21 01:50:05.545599+00:00</td>\n",
       "      <td>218.187</td>\n",
       "      <td>175.731</td>\n",
       "      <td>748.745</td>\n",
       "      <td>123.731</td>\n",
       "      <td>176.132</td>\n",
       "    </tr>\n",
       "    <tr>\n",
       "      <th>233417</th>\n",
       "      <td>2020-01-21 01:53:14.432600+00:00</td>\n",
       "      <td>209.173</td>\n",
       "      <td>176.086</td>\n",
       "      <td>756.051</td>\n",
       "      <td>124.029</td>\n",
       "      <td>176.118</td>\n",
       "    </tr>\n",
       "  </tbody>\n",
       "</table>\n",
       "<p>233418 rows × 6 columns</p>\n",
       "</div>"
      ],
      "text/plain": [
       "                               TimeStamp  variable 2  variable 3  variable 4  \\\n",
       "0       2019-11-05 20:21:24.089399+00:00     208.786     179.392     757.987   \n",
       "1       2019-11-05 20:21:25.220399+00:00     211.404     179.324     758.923   \n",
       "2       2019-11-05 20:21:28.242400+00:00     220.400     179.732     758.762   \n",
       "3       2019-11-05 20:21:29.642399+00:00     220.529     179.843     756.403   \n",
       "4       2019-11-05 20:21:30.145400+00:00     225.749     179.489     757.247   \n",
       "...                                  ...         ...         ...         ...   \n",
       "233413  2020-01-21 01:45:45.593599+00:00     203.539     178.067     756.155   \n",
       "233414  2020-01-21 01:48:11.389599+00:00     203.657     175.850     749.677   \n",
       "233415  2020-01-21 01:48:13.519599+00:00     203.998     175.580     749.400   \n",
       "233416  2020-01-21 01:50:05.545599+00:00     218.187     175.731     748.745   \n",
       "233417  2020-01-21 01:53:14.432600+00:00     209.173     176.086     756.051   \n",
       "\n",
       "        variable 5  variable 7  \n",
       "0          124.053         NaN  \n",
       "1          123.952         NaN  \n",
       "2          124.065         NaN  \n",
       "3          123.605     180.033  \n",
       "4          123.951     180.095  \n",
       "...            ...         ...  \n",
       "233413     123.612         NaN  \n",
       "233414     123.717     175.917  \n",
       "233415     124.359     176.346  \n",
       "233416     123.731     176.132  \n",
       "233417     124.029     176.118  \n",
       "\n",
       "[233418 rows x 6 columns]"
      ]
     },
     "execution_count": 10,
     "metadata": {},
     "output_type": "execute_result"
    }
   ],
   "source": [
    "remove_null(df)    #Checking the function with our dataset"
   ]
  },
  {
   "cell_type": "code",
   "execution_count": 11,
   "metadata": {},
   "outputs": [
    {
     "data": {
      "text/html": [
       "<div>\n",
       "<style scoped>\n",
       "    .dataframe tbody tr th:only-of-type {\n",
       "        vertical-align: middle;\n",
       "    }\n",
       "\n",
       "    .dataframe tbody tr th {\n",
       "        vertical-align: top;\n",
       "    }\n",
       "\n",
       "    .dataframe thead th {\n",
       "        text-align: right;\n",
       "    }\n",
       "</style>\n",
       "<table border=\"1\" class=\"dataframe\">\n",
       "  <thead>\n",
       "    <tr style=\"text-align: right;\">\n",
       "      <th></th>\n",
       "      <th>TimeStamp</th>\n",
       "      <th>variable 2</th>\n",
       "      <th>variable 3</th>\n",
       "      <th>variable 4</th>\n",
       "      <th>variable 5</th>\n",
       "      <th>variable 7</th>\n",
       "    </tr>\n",
       "  </thead>\n",
       "  <tbody>\n",
       "    <tr>\n",
       "      <th>0</th>\n",
       "      <td>2019-11-05 20:21:24.089399+00:00</td>\n",
       "      <td>208.786</td>\n",
       "      <td>179.392</td>\n",
       "      <td>757.987</td>\n",
       "      <td>124.053</td>\n",
       "      <td>NaN</td>\n",
       "    </tr>\n",
       "    <tr>\n",
       "      <th>1</th>\n",
       "      <td>2019-11-05 20:21:25.220399+00:00</td>\n",
       "      <td>211.404</td>\n",
       "      <td>179.324</td>\n",
       "      <td>758.923</td>\n",
       "      <td>123.952</td>\n",
       "      <td>NaN</td>\n",
       "    </tr>\n",
       "    <tr>\n",
       "      <th>2</th>\n",
       "      <td>2019-11-05 20:21:28.242400+00:00</td>\n",
       "      <td>220.400</td>\n",
       "      <td>179.732</td>\n",
       "      <td>758.762</td>\n",
       "      <td>124.065</td>\n",
       "      <td>NaN</td>\n",
       "    </tr>\n",
       "    <tr>\n",
       "      <th>3</th>\n",
       "      <td>2019-11-05 20:21:29.642399+00:00</td>\n",
       "      <td>220.529</td>\n",
       "      <td>179.843</td>\n",
       "      <td>756.403</td>\n",
       "      <td>123.605</td>\n",
       "      <td>180.033</td>\n",
       "    </tr>\n",
       "    <tr>\n",
       "      <th>4</th>\n",
       "      <td>2019-11-05 20:21:30.145400+00:00</td>\n",
       "      <td>225.749</td>\n",
       "      <td>179.489</td>\n",
       "      <td>757.247</td>\n",
       "      <td>123.951</td>\n",
       "      <td>180.095</td>\n",
       "    </tr>\n",
       "  </tbody>\n",
       "</table>\n",
       "</div>"
      ],
      "text/plain": [
       "                          TimeStamp  variable 2  variable 3  variable 4  \\\n",
       "0  2019-11-05 20:21:24.089399+00:00     208.786     179.392     757.987   \n",
       "1  2019-11-05 20:21:25.220399+00:00     211.404     179.324     758.923   \n",
       "2  2019-11-05 20:21:28.242400+00:00     220.400     179.732     758.762   \n",
       "3  2019-11-05 20:21:29.642399+00:00     220.529     179.843     756.403   \n",
       "4  2019-11-05 20:21:30.145400+00:00     225.749     179.489     757.247   \n",
       "\n",
       "   variable 5  variable 7  \n",
       "0     124.053         NaN  \n",
       "1     123.952         NaN  \n",
       "2     124.065         NaN  \n",
       "3     123.605     180.033  \n",
       "4     123.951     180.095  "
      ]
     },
     "execution_count": 11,
     "metadata": {},
     "output_type": "execute_result"
    }
   ],
   "source": [
    "#Another approach to remove the columns with more than 50% missing values\n",
    "df=df.dropna(thresh=int(0.50*len(df)), axis=1)\n",
    "df.head()"
   ]
  },
  {
   "cell_type": "markdown",
   "metadata": {},
   "source": [
    "So, in this way also we can omit the columns containing more than 50% missing values. Here using the \"thresh\" parameter of the dropna method we are setting the threshold to 0.50 of the length (number of rows) of the dataset. 'axis=1' stands for columns.And again we get the perfect result!"
   ]
  },
  {
   "cell_type": "code",
   "execution_count": 12,
   "metadata": {},
   "outputs": [
    {
     "data": {
      "text/plain": [
       "(233418, 6)"
      ]
     },
     "execution_count": 12,
     "metadata": {},
     "output_type": "execute_result"
    }
   ],
   "source": [
    "#Identifying the rows containing missing values in all the columns except 'TimeStamp'\n",
    "cols= ['variable 2','variable 3','variable 4','variable 5','variable 7']\n",
    "df[df[cols].isnull().apply(lambda x: all(x), axis=1)]\n",
    "df.shape"
   ]
  },
  {
   "cell_type": "markdown",
   "metadata": {},
   "source": [
    "**We don't have any such row, in which all the features are missing except the 'TimeStamp'**\n",
    "\n",
    "**But, if there were any, then we could identify and delete those rows simultaneously using a function as below.**"
   ]
  },
  {
   "cell_type": "code",
   "execution_count": 13,
   "metadata": {},
   "outputs": [],
   "source": [
    "#function to check the empty rows and delete the same (columns can be taken as wish)\n",
    "def void_rows(dataframe,cols):\n",
    "    dataframe['void'] =dataframe[cols].isnull().apply(lambda x: all(x), axis=1)  #void will contain 'True' and 'False'\n",
    "    dataframe=dataframe[dataframe['void']==False]        #Taking only the rows containing 'void'='False' or deleting the rows where 'void'='True'\n",
    "    dataframe=dataframe.drop('void',axis=1)   #dropping the 'void' column\n",
    "    return dataframe          #returning the final dataframe after the desired operation     "
   ]
  },
  {
   "cell_type": "code",
   "execution_count": 14,
   "metadata": {},
   "outputs": [
    {
     "data": {
      "text/html": [
       "<div>\n",
       "<style scoped>\n",
       "    .dataframe tbody tr th:only-of-type {\n",
       "        vertical-align: middle;\n",
       "    }\n",
       "\n",
       "    .dataframe tbody tr th {\n",
       "        vertical-align: top;\n",
       "    }\n",
       "\n",
       "    .dataframe thead th {\n",
       "        text-align: right;\n",
       "    }\n",
       "</style>\n",
       "<table border=\"1\" class=\"dataframe\">\n",
       "  <thead>\n",
       "    <tr style=\"text-align: right;\">\n",
       "      <th></th>\n",
       "      <th>TimeStamp</th>\n",
       "      <th>variable 2</th>\n",
       "      <th>variable 3</th>\n",
       "      <th>variable 4</th>\n",
       "      <th>variable 5</th>\n",
       "      <th>variable 7</th>\n",
       "    </tr>\n",
       "  </thead>\n",
       "  <tbody>\n",
       "    <tr>\n",
       "      <th>0</th>\n",
       "      <td>2019-11-05 20:21:24.089399+00:00</td>\n",
       "      <td>208.786</td>\n",
       "      <td>179.392</td>\n",
       "      <td>757.987</td>\n",
       "      <td>124.053</td>\n",
       "      <td>NaN</td>\n",
       "    </tr>\n",
       "    <tr>\n",
       "      <th>1</th>\n",
       "      <td>2019-11-05 20:21:25.220399+00:00</td>\n",
       "      <td>211.404</td>\n",
       "      <td>179.324</td>\n",
       "      <td>758.923</td>\n",
       "      <td>123.952</td>\n",
       "      <td>NaN</td>\n",
       "    </tr>\n",
       "    <tr>\n",
       "      <th>2</th>\n",
       "      <td>2019-11-05 20:21:28.242400+00:00</td>\n",
       "      <td>220.400</td>\n",
       "      <td>179.732</td>\n",
       "      <td>758.762</td>\n",
       "      <td>124.065</td>\n",
       "      <td>NaN</td>\n",
       "    </tr>\n",
       "    <tr>\n",
       "      <th>3</th>\n",
       "      <td>2019-11-05 20:21:29.642399+00:00</td>\n",
       "      <td>220.529</td>\n",
       "      <td>179.843</td>\n",
       "      <td>756.403</td>\n",
       "      <td>123.605</td>\n",
       "      <td>180.033</td>\n",
       "    </tr>\n",
       "    <tr>\n",
       "      <th>4</th>\n",
       "      <td>2019-11-05 20:21:30.145400+00:00</td>\n",
       "      <td>225.749</td>\n",
       "      <td>179.489</td>\n",
       "      <td>757.247</td>\n",
       "      <td>123.951</td>\n",
       "      <td>180.095</td>\n",
       "    </tr>\n",
       "  </tbody>\n",
       "</table>\n",
       "</div>"
      ],
      "text/plain": [
       "                          TimeStamp  variable 2  variable 3  variable 4  \\\n",
       "0  2019-11-05 20:21:24.089399+00:00     208.786     179.392     757.987   \n",
       "1  2019-11-05 20:21:25.220399+00:00     211.404     179.324     758.923   \n",
       "2  2019-11-05 20:21:28.242400+00:00     220.400     179.732     758.762   \n",
       "3  2019-11-05 20:21:29.642399+00:00     220.529     179.843     756.403   \n",
       "4  2019-11-05 20:21:30.145400+00:00     225.749     179.489     757.247   \n",
       "\n",
       "   variable 5  variable 7  \n",
       "0     124.053         NaN  \n",
       "1     123.952         NaN  \n",
       "2     124.065         NaN  \n",
       "3     123.605     180.033  \n",
       "4     123.951     180.095  "
      ]
     },
     "execution_count": 14,
     "metadata": {},
     "output_type": "execute_result"
    }
   ],
   "source": [
    "data=void_rows(df,cols)    #checking the function with our dataset\n",
    "data.head()"
   ]
  },
  {
   "cell_type": "markdown",
   "metadata": {},
   "source": [
    "**The function works fine!**"
   ]
  },
  {
   "cell_type": "code",
   "execution_count": 15,
   "metadata": {},
   "outputs": [
    {
     "name": "stdout",
     "output_type": "stream",
     "text": [
      "The table consists of 233418 rows and 6 columns\n"
     ]
    }
   ],
   "source": [
    "#Size of the dataset/table\n",
    "q=data.shape\n",
    "print(\"The table consists of {}\".format(q[0]), \"rows and {}\".format(q[1]), \"columns\")"
   ]
  },
  {
   "cell_type": "code",
   "execution_count": 16,
   "metadata": {},
   "outputs": [
    {
     "data": {
      "text/plain": [
       "str"
      ]
     },
     "execution_count": 16,
     "metadata": {},
     "output_type": "execute_result"
    }
   ],
   "source": [
    "#Checking the type of 'TimeStamp' variables\n",
    "type(data.TimeStamp[0])"
   ]
  },
  {
   "cell_type": "markdown",
   "metadata": {},
   "source": [
    "As it' a string, we will convert it to datetime variable to work with pandas time-series."
   ]
  },
  {
   "cell_type": "code",
   "execution_count": 17,
   "metadata": {},
   "outputs": [
    {
     "data": {
      "text/plain": [
       "TimeStamp     datetime64[ns, UTC]\n",
       "variable 2                float64\n",
       "variable 3                float64\n",
       "variable 4                float64\n",
       "variable 5                float64\n",
       "variable 7                float64\n",
       "dtype: object"
      ]
     },
     "execution_count": 17,
     "metadata": {},
     "output_type": "execute_result"
    }
   ],
   "source": [
    "#Converting to DateTime variable\n",
    "data['TimeStamp']=pd.to_datetime(data.TimeStamp)\n",
    "data.dtypes       #Checking the datatypes of all the columns"
   ]
  },
  {
   "cell_type": "markdown",
   "metadata": {},
   "source": [
    "Now TimeStamp is a datetime variable."
   ]
  },
  {
   "cell_type": "code",
   "execution_count": 18,
   "metadata": {},
   "outputs": [
    {
     "data": {
      "text/html": [
       "<div>\n",
       "<style scoped>\n",
       "    .dataframe tbody tr th:only-of-type {\n",
       "        vertical-align: middle;\n",
       "    }\n",
       "\n",
       "    .dataframe tbody tr th {\n",
       "        vertical-align: top;\n",
       "    }\n",
       "\n",
       "    .dataframe thead th {\n",
       "        text-align: right;\n",
       "    }\n",
       "</style>\n",
       "<table border=\"1\" class=\"dataframe\">\n",
       "  <thead>\n",
       "    <tr style=\"text-align: right;\">\n",
       "      <th></th>\n",
       "      <th>TimeStamp</th>\n",
       "      <th>variable 2</th>\n",
       "      <th>variable 3</th>\n",
       "      <th>variable 4</th>\n",
       "      <th>variable 5</th>\n",
       "      <th>variable 7</th>\n",
       "    </tr>\n",
       "  </thead>\n",
       "  <tbody>\n",
       "    <tr>\n",
       "      <th>0</th>\n",
       "      <td>2019-11-05 20:21:24.089399+00:00</td>\n",
       "      <td>208.786</td>\n",
       "      <td>179.392</td>\n",
       "      <td>757.987</td>\n",
       "      <td>124.053</td>\n",
       "      <td>NaN</td>\n",
       "    </tr>\n",
       "    <tr>\n",
       "      <th>1</th>\n",
       "      <td>2019-11-05 20:21:25.220399+00:00</td>\n",
       "      <td>211.404</td>\n",
       "      <td>179.324</td>\n",
       "      <td>758.923</td>\n",
       "      <td>123.952</td>\n",
       "      <td>NaN</td>\n",
       "    </tr>\n",
       "    <tr>\n",
       "      <th>2</th>\n",
       "      <td>2019-11-05 20:21:28.242400+00:00</td>\n",
       "      <td>220.400</td>\n",
       "      <td>179.732</td>\n",
       "      <td>758.762</td>\n",
       "      <td>124.065</td>\n",
       "      <td>NaN</td>\n",
       "    </tr>\n",
       "    <tr>\n",
       "      <th>3</th>\n",
       "      <td>2019-11-05 20:21:29.642399+00:00</td>\n",
       "      <td>220.529</td>\n",
       "      <td>179.843</td>\n",
       "      <td>756.403</td>\n",
       "      <td>123.605</td>\n",
       "      <td>180.033</td>\n",
       "    </tr>\n",
       "    <tr>\n",
       "      <th>4</th>\n",
       "      <td>2019-11-05 20:21:30.145400+00:00</td>\n",
       "      <td>225.749</td>\n",
       "      <td>179.489</td>\n",
       "      <td>757.247</td>\n",
       "      <td>123.951</td>\n",
       "      <td>180.095</td>\n",
       "    </tr>\n",
       "    <tr>\n",
       "      <th>...</th>\n",
       "      <td>...</td>\n",
       "      <td>...</td>\n",
       "      <td>...</td>\n",
       "      <td>...</td>\n",
       "      <td>...</td>\n",
       "      <td>...</td>\n",
       "    </tr>\n",
       "    <tr>\n",
       "      <th>233413</th>\n",
       "      <td>2020-01-21 01:45:45.593599+00:00</td>\n",
       "      <td>203.539</td>\n",
       "      <td>178.067</td>\n",
       "      <td>756.155</td>\n",
       "      <td>123.612</td>\n",
       "      <td>NaN</td>\n",
       "    </tr>\n",
       "    <tr>\n",
       "      <th>233414</th>\n",
       "      <td>2020-01-21 01:48:11.389599+00:00</td>\n",
       "      <td>203.657</td>\n",
       "      <td>175.850</td>\n",
       "      <td>749.677</td>\n",
       "      <td>123.717</td>\n",
       "      <td>175.917</td>\n",
       "    </tr>\n",
       "    <tr>\n",
       "      <th>233415</th>\n",
       "      <td>2020-01-21 01:48:13.519599+00:00</td>\n",
       "      <td>203.998</td>\n",
       "      <td>175.580</td>\n",
       "      <td>749.400</td>\n",
       "      <td>124.359</td>\n",
       "      <td>176.346</td>\n",
       "    </tr>\n",
       "    <tr>\n",
       "      <th>233416</th>\n",
       "      <td>2020-01-21 01:50:05.545599+00:00</td>\n",
       "      <td>218.187</td>\n",
       "      <td>175.731</td>\n",
       "      <td>748.745</td>\n",
       "      <td>123.731</td>\n",
       "      <td>176.132</td>\n",
       "    </tr>\n",
       "    <tr>\n",
       "      <th>233417</th>\n",
       "      <td>2020-01-21 01:53:14.432600+00:00</td>\n",
       "      <td>209.173</td>\n",
       "      <td>176.086</td>\n",
       "      <td>756.051</td>\n",
       "      <td>124.029</td>\n",
       "      <td>176.118</td>\n",
       "    </tr>\n",
       "  </tbody>\n",
       "</table>\n",
       "<p>233418 rows × 6 columns</p>\n",
       "</div>"
      ],
      "text/plain": [
       "                              TimeStamp  variable 2  variable 3  variable 4  \\\n",
       "0      2019-11-05 20:21:24.089399+00:00     208.786     179.392     757.987   \n",
       "1      2019-11-05 20:21:25.220399+00:00     211.404     179.324     758.923   \n",
       "2      2019-11-05 20:21:28.242400+00:00     220.400     179.732     758.762   \n",
       "3      2019-11-05 20:21:29.642399+00:00     220.529     179.843     756.403   \n",
       "4      2019-11-05 20:21:30.145400+00:00     225.749     179.489     757.247   \n",
       "...                                 ...         ...         ...         ...   \n",
       "233413 2020-01-21 01:45:45.593599+00:00     203.539     178.067     756.155   \n",
       "233414 2020-01-21 01:48:11.389599+00:00     203.657     175.850     749.677   \n",
       "233415 2020-01-21 01:48:13.519599+00:00     203.998     175.580     749.400   \n",
       "233416 2020-01-21 01:50:05.545599+00:00     218.187     175.731     748.745   \n",
       "233417 2020-01-21 01:53:14.432600+00:00     209.173     176.086     756.051   \n",
       "\n",
       "        variable 5  variable 7  \n",
       "0          124.053         NaN  \n",
       "1          123.952         NaN  \n",
       "2          124.065         NaN  \n",
       "3          123.605     180.033  \n",
       "4          123.951     180.095  \n",
       "...            ...         ...  \n",
       "233413     123.612         NaN  \n",
       "233414     123.717     175.917  \n",
       "233415     124.359     176.346  \n",
       "233416     123.731     176.132  \n",
       "233417     124.029     176.118  \n",
       "\n",
       "[233418 rows x 6 columns]"
      ]
     },
     "execution_count": 18,
     "metadata": {},
     "output_type": "execute_result"
    }
   ],
   "source": [
    "#sorting the 'TimeStamp' variable in increasing order\n",
    "data = data.sort_values(by=\"TimeStamp\")\n",
    "data"
   ]
  },
  {
   "cell_type": "code",
   "execution_count": 19,
   "metadata": {},
   "outputs": [],
   "source": [
    "from datetime import datetime, timedelta\n",
    "#dt1=data[(data['TimeStamp']>='2019-11-05 20:21:24.089399+00:00')&(data['TimeStamp']<str('2019-11-05 20:21:24.089399+00:00')+timedelta(days=5))]"
   ]
  },
  {
   "cell_type": "code",
   "execution_count": 20,
   "metadata": {},
   "outputs": [
    {
     "data": {
      "text/plain": [
       "(Timestamp('2019-11-05 20:21:24.089399+0000', tz='UTC'),\n",
       " Timestamp('2020-01-21 01:53:14.432600+0000', tz='UTC'))"
      ]
     },
     "execution_count": 20,
     "metadata": {},
     "output_type": "execute_result"
    }
   ],
   "source": [
    "#Printing the minimum and maximum value of the column 'TimeStamp'\n",
    "data['TimeStamp'].min(), data['TimeStamp'].max()"
   ]
  },
  {
   "cell_type": "code",
   "execution_count": 21,
   "metadata": {},
   "outputs": [
    {
     "data": {
      "text/plain": [
       "(Timestamp('2019-11-05 20:21:24.089399+0000', tz='UTC'),\n",
       " Timestamp('2020-01-21 01:53:14.432600+0000', tz='UTC'))"
      ]
     },
     "execution_count": 21,
     "metadata": {},
     "output_type": "execute_result"
    }
   ],
   "source": [
    "#Here as we have sorted the dataframe we can do it in a simple way\n",
    "data.TimeStamp[0], data.TimeStamp[233417]"
   ]
  },
  {
   "cell_type": "code",
   "execution_count": 22,
   "metadata": {},
   "outputs": [],
   "source": [
    "#Creating a column to include the time difference in minutes between two consecutive 'TimeStamp' value\n",
    "data['time_diff'] = (data['TimeStamp'] - data['TimeStamp'].shift(1)).astype('timedelta64[m]')\n",
    "data['Date'] = pd.to_datetime(df['TimeStamp']).dt.date     #getting a date column for future use"
   ]
  },
  {
   "cell_type": "markdown",
   "metadata": {},
   "source": [
    "The 'time_diff' column will help us in determining the Timestamps having more than 5 minutes gap with the next Timestamp data."
   ]
  },
  {
   "cell_type": "code",
   "execution_count": 23,
   "metadata": {},
   "outputs": [
    {
     "data": {
      "text/html": [
       "<div>\n",
       "<style scoped>\n",
       "    .dataframe tbody tr th:only-of-type {\n",
       "        vertical-align: middle;\n",
       "    }\n",
       "\n",
       "    .dataframe tbody tr th {\n",
       "        vertical-align: top;\n",
       "    }\n",
       "\n",
       "    .dataframe thead th {\n",
       "        text-align: right;\n",
       "    }\n",
       "</style>\n",
       "<table border=\"1\" class=\"dataframe\">\n",
       "  <thead>\n",
       "    <tr style=\"text-align: right;\">\n",
       "      <th></th>\n",
       "      <th>variable 2</th>\n",
       "      <th>variable 3</th>\n",
       "      <th>variable 4</th>\n",
       "      <th>variable 5</th>\n",
       "      <th>variable 7</th>\n",
       "      <th>time_diff</th>\n",
       "      <th>Date</th>\n",
       "    </tr>\n",
       "    <tr>\n",
       "      <th>TimeStamp</th>\n",
       "      <th></th>\n",
       "      <th></th>\n",
       "      <th></th>\n",
       "      <th></th>\n",
       "      <th></th>\n",
       "      <th></th>\n",
       "      <th></th>\n",
       "    </tr>\n",
       "  </thead>\n",
       "  <tbody>\n",
       "    <tr>\n",
       "      <th>2019-11-05 20:21:24.089399+00:00</th>\n",
       "      <td>208.786</td>\n",
       "      <td>179.392</td>\n",
       "      <td>757.987</td>\n",
       "      <td>124.053</td>\n",
       "      <td>NaN</td>\n",
       "      <td>NaN</td>\n",
       "      <td>2019-11-05</td>\n",
       "    </tr>\n",
       "    <tr>\n",
       "      <th>2019-11-05 20:21:25.220399+00:00</th>\n",
       "      <td>211.404</td>\n",
       "      <td>179.324</td>\n",
       "      <td>758.923</td>\n",
       "      <td>123.952</td>\n",
       "      <td>NaN</td>\n",
       "      <td>0.0</td>\n",
       "      <td>2019-11-05</td>\n",
       "    </tr>\n",
       "    <tr>\n",
       "      <th>2019-11-05 20:21:28.242400+00:00</th>\n",
       "      <td>220.400</td>\n",
       "      <td>179.732</td>\n",
       "      <td>758.762</td>\n",
       "      <td>124.065</td>\n",
       "      <td>NaN</td>\n",
       "      <td>0.0</td>\n",
       "      <td>2019-11-05</td>\n",
       "    </tr>\n",
       "    <tr>\n",
       "      <th>2019-11-05 20:21:29.642399+00:00</th>\n",
       "      <td>220.529</td>\n",
       "      <td>179.843</td>\n",
       "      <td>756.403</td>\n",
       "      <td>123.605</td>\n",
       "      <td>180.033</td>\n",
       "      <td>0.0</td>\n",
       "      <td>2019-11-05</td>\n",
       "    </tr>\n",
       "    <tr>\n",
       "      <th>2019-11-05 20:21:30.145400+00:00</th>\n",
       "      <td>225.749</td>\n",
       "      <td>179.489</td>\n",
       "      <td>757.247</td>\n",
       "      <td>123.951</td>\n",
       "      <td>180.095</td>\n",
       "      <td>0.0</td>\n",
       "      <td>2019-11-05</td>\n",
       "    </tr>\n",
       "    <tr>\n",
       "      <th>2019-11-05 20:21:32.649400+00:00</th>\n",
       "      <td>225.777</td>\n",
       "      <td>180.024</td>\n",
       "      <td>758.419</td>\n",
       "      <td>124.324</td>\n",
       "      <td>179.436</td>\n",
       "      <td>0.0</td>\n",
       "      <td>2019-11-05</td>\n",
       "    </tr>\n",
       "    <tr>\n",
       "      <th>2019-11-05 20:21:33.147399+00:00</th>\n",
       "      <td>223.561</td>\n",
       "      <td>179.732</td>\n",
       "      <td>757.899</td>\n",
       "      <td>123.650</td>\n",
       "      <td>NaN</td>\n",
       "      <td>0.0</td>\n",
       "      <td>2019-11-05</td>\n",
       "    </tr>\n",
       "    <tr>\n",
       "      <th>2019-11-05 20:21:35.666399+00:00</th>\n",
       "      <td>211.311</td>\n",
       "      <td>179.148</td>\n",
       "      <td>757.881</td>\n",
       "      <td>124.288</td>\n",
       "      <td>NaN</td>\n",
       "      <td>0.0</td>\n",
       "      <td>2019-11-05</td>\n",
       "    </tr>\n",
       "    <tr>\n",
       "      <th>2019-11-05 20:21:37.294400+00:00</th>\n",
       "      <td>211.657</td>\n",
       "      <td>180.098</td>\n",
       "      <td>757.089</td>\n",
       "      <td>123.712</td>\n",
       "      <td>NaN</td>\n",
       "      <td>0.0</td>\n",
       "      <td>2019-11-05</td>\n",
       "    </tr>\n",
       "    <tr>\n",
       "      <th>2019-11-05 20:21:38.089399+00:00</th>\n",
       "      <td>225.325</td>\n",
       "      <td>179.326</td>\n",
       "      <td>757.636</td>\n",
       "      <td>124.248</td>\n",
       "      <td>179.605</td>\n",
       "      <td>0.0</td>\n",
       "      <td>2019-11-05</td>\n",
       "    </tr>\n",
       "    <tr>\n",
       "      <th>2019-11-05 20:21:42.218400+00:00</th>\n",
       "      <td>225.246</td>\n",
       "      <td>179.868</td>\n",
       "      <td>757.809</td>\n",
       "      <td>124.306</td>\n",
       "      <td>179.112</td>\n",
       "      <td>0.0</td>\n",
       "      <td>2019-11-05</td>\n",
       "    </tr>\n",
       "    <tr>\n",
       "      <th>2019-11-05 20:21:43.329400+00:00</th>\n",
       "      <td>223.486</td>\n",
       "      <td>180.024</td>\n",
       "      <td>758.047</td>\n",
       "      <td>123.572</td>\n",
       "      <td>179.127</td>\n",
       "      <td>0.0</td>\n",
       "      <td>2019-11-05</td>\n",
       "    </tr>\n",
       "    <tr>\n",
       "      <th>2019-11-05 20:21:47.115399+00:00</th>\n",
       "      <td>206.110</td>\n",
       "      <td>179.779</td>\n",
       "      <td>757.911</td>\n",
       "      <td>124.351</td>\n",
       "      <td>NaN</td>\n",
       "      <td>0.0</td>\n",
       "      <td>2019-11-05</td>\n",
       "    </tr>\n",
       "    <tr>\n",
       "      <th>2019-11-05 20:21:49.377399+00:00</th>\n",
       "      <td>206.428</td>\n",
       "      <td>179.580</td>\n",
       "      <td>757.582</td>\n",
       "      <td>123.976</td>\n",
       "      <td>179.500</td>\n",
       "      <td>0.0</td>\n",
       "      <td>2019-11-05</td>\n",
       "    </tr>\n",
       "    <tr>\n",
       "      <th>2019-11-05 20:21:51.279399+00:00</th>\n",
       "      <td>209.136</td>\n",
       "      <td>179.606</td>\n",
       "      <td>757.863</td>\n",
       "      <td>123.775</td>\n",
       "      <td>179.445</td>\n",
       "      <td>0.0</td>\n",
       "      <td>2019-11-05</td>\n",
       "    </tr>\n",
       "    <tr>\n",
       "      <th>2019-11-05 20:21:53.182400+00:00</th>\n",
       "      <td>208.743</td>\n",
       "      <td>179.502</td>\n",
       "      <td>757.774</td>\n",
       "      <td>123.543</td>\n",
       "      <td>NaN</td>\n",
       "      <td>0.0</td>\n",
       "      <td>2019-11-05</td>\n",
       "    </tr>\n",
       "    <tr>\n",
       "      <th>2019-11-05 20:21:55.444399+00:00</th>\n",
       "      <td>208.808</td>\n",
       "      <td>179.549</td>\n",
       "      <td>758.734</td>\n",
       "      <td>124.056</td>\n",
       "      <td>179.847</td>\n",
       "      <td>0.0</td>\n",
       "      <td>2019-11-05</td>\n",
       "    </tr>\n",
       "    <tr>\n",
       "      <th>2019-11-05 20:21:56.224400+00:00</th>\n",
       "      <td>210.996</td>\n",
       "      <td>179.802</td>\n",
       "      <td>757.880</td>\n",
       "      <td>124.254</td>\n",
       "      <td>NaN</td>\n",
       "      <td>0.0</td>\n",
       "      <td>2019-11-05</td>\n",
       "    </tr>\n",
       "    <tr>\n",
       "      <th>2019-11-05 20:22:01.471399+00:00</th>\n",
       "      <td>209.138</td>\n",
       "      <td>179.891</td>\n",
       "      <td>758.202</td>\n",
       "      <td>123.542</td>\n",
       "      <td>179.949</td>\n",
       "      <td>0.0</td>\n",
       "      <td>2019-11-05</td>\n",
       "    </tr>\n",
       "    <tr>\n",
       "      <th>2019-11-05 20:22:06.118400+00:00</th>\n",
       "      <td>223.597</td>\n",
       "      <td>179.263</td>\n",
       "      <td>757.723</td>\n",
       "      <td>123.552</td>\n",
       "      <td>179.111</td>\n",
       "      <td>0.0</td>\n",
       "      <td>2019-11-05</td>\n",
       "    </tr>\n",
       "  </tbody>\n",
       "</table>\n",
       "</div>"
      ],
      "text/plain": [
       "                                  variable 2  variable 3  variable 4  \\\n",
       "TimeStamp                                                              \n",
       "2019-11-05 20:21:24.089399+00:00     208.786     179.392     757.987   \n",
       "2019-11-05 20:21:25.220399+00:00     211.404     179.324     758.923   \n",
       "2019-11-05 20:21:28.242400+00:00     220.400     179.732     758.762   \n",
       "2019-11-05 20:21:29.642399+00:00     220.529     179.843     756.403   \n",
       "2019-11-05 20:21:30.145400+00:00     225.749     179.489     757.247   \n",
       "2019-11-05 20:21:32.649400+00:00     225.777     180.024     758.419   \n",
       "2019-11-05 20:21:33.147399+00:00     223.561     179.732     757.899   \n",
       "2019-11-05 20:21:35.666399+00:00     211.311     179.148     757.881   \n",
       "2019-11-05 20:21:37.294400+00:00     211.657     180.098     757.089   \n",
       "2019-11-05 20:21:38.089399+00:00     225.325     179.326     757.636   \n",
       "2019-11-05 20:21:42.218400+00:00     225.246     179.868     757.809   \n",
       "2019-11-05 20:21:43.329400+00:00     223.486     180.024     758.047   \n",
       "2019-11-05 20:21:47.115399+00:00     206.110     179.779     757.911   \n",
       "2019-11-05 20:21:49.377399+00:00     206.428     179.580     757.582   \n",
       "2019-11-05 20:21:51.279399+00:00     209.136     179.606     757.863   \n",
       "2019-11-05 20:21:53.182400+00:00     208.743     179.502     757.774   \n",
       "2019-11-05 20:21:55.444399+00:00     208.808     179.549     758.734   \n",
       "2019-11-05 20:21:56.224400+00:00     210.996     179.802     757.880   \n",
       "2019-11-05 20:22:01.471399+00:00     209.138     179.891     758.202   \n",
       "2019-11-05 20:22:06.118400+00:00     223.597     179.263     757.723   \n",
       "\n",
       "                                  variable 5  variable 7  time_diff  \\\n",
       "TimeStamp                                                             \n",
       "2019-11-05 20:21:24.089399+00:00     124.053         NaN        NaN   \n",
       "2019-11-05 20:21:25.220399+00:00     123.952         NaN        0.0   \n",
       "2019-11-05 20:21:28.242400+00:00     124.065         NaN        0.0   \n",
       "2019-11-05 20:21:29.642399+00:00     123.605     180.033        0.0   \n",
       "2019-11-05 20:21:30.145400+00:00     123.951     180.095        0.0   \n",
       "2019-11-05 20:21:32.649400+00:00     124.324     179.436        0.0   \n",
       "2019-11-05 20:21:33.147399+00:00     123.650         NaN        0.0   \n",
       "2019-11-05 20:21:35.666399+00:00     124.288         NaN        0.0   \n",
       "2019-11-05 20:21:37.294400+00:00     123.712         NaN        0.0   \n",
       "2019-11-05 20:21:38.089399+00:00     124.248     179.605        0.0   \n",
       "2019-11-05 20:21:42.218400+00:00     124.306     179.112        0.0   \n",
       "2019-11-05 20:21:43.329400+00:00     123.572     179.127        0.0   \n",
       "2019-11-05 20:21:47.115399+00:00     124.351         NaN        0.0   \n",
       "2019-11-05 20:21:49.377399+00:00     123.976     179.500        0.0   \n",
       "2019-11-05 20:21:51.279399+00:00     123.775     179.445        0.0   \n",
       "2019-11-05 20:21:53.182400+00:00     123.543         NaN        0.0   \n",
       "2019-11-05 20:21:55.444399+00:00     124.056     179.847        0.0   \n",
       "2019-11-05 20:21:56.224400+00:00     124.254         NaN        0.0   \n",
       "2019-11-05 20:22:01.471399+00:00     123.542     179.949        0.0   \n",
       "2019-11-05 20:22:06.118400+00:00     123.552     179.111        0.0   \n",
       "\n",
       "                                        Date  \n",
       "TimeStamp                                     \n",
       "2019-11-05 20:21:24.089399+00:00  2019-11-05  \n",
       "2019-11-05 20:21:25.220399+00:00  2019-11-05  \n",
       "2019-11-05 20:21:28.242400+00:00  2019-11-05  \n",
       "2019-11-05 20:21:29.642399+00:00  2019-11-05  \n",
       "2019-11-05 20:21:30.145400+00:00  2019-11-05  \n",
       "2019-11-05 20:21:32.649400+00:00  2019-11-05  \n",
       "2019-11-05 20:21:33.147399+00:00  2019-11-05  \n",
       "2019-11-05 20:21:35.666399+00:00  2019-11-05  \n",
       "2019-11-05 20:21:37.294400+00:00  2019-11-05  \n",
       "2019-11-05 20:21:38.089399+00:00  2019-11-05  \n",
       "2019-11-05 20:21:42.218400+00:00  2019-11-05  \n",
       "2019-11-05 20:21:43.329400+00:00  2019-11-05  \n",
       "2019-11-05 20:21:47.115399+00:00  2019-11-05  \n",
       "2019-11-05 20:21:49.377399+00:00  2019-11-05  \n",
       "2019-11-05 20:21:51.279399+00:00  2019-11-05  \n",
       "2019-11-05 20:21:53.182400+00:00  2019-11-05  \n",
       "2019-11-05 20:21:55.444399+00:00  2019-11-05  \n",
       "2019-11-05 20:21:56.224400+00:00  2019-11-05  \n",
       "2019-11-05 20:22:01.471399+00:00  2019-11-05  \n",
       "2019-11-05 20:22:06.118400+00:00  2019-11-05  "
      ]
     },
     "execution_count": 23,
     "metadata": {},
     "output_type": "execute_result"
    }
   ],
   "source": [
    "data=data.set_index('TimeStamp')         #seting \"timeStamp\" as the index of our dataset\n",
    "data.head(20)"
   ]
  },
  {
   "cell_type": "code",
   "execution_count": 24,
   "metadata": {},
   "outputs": [
    {
     "data": {
      "text/html": [
       "<div>\n",
       "<style scoped>\n",
       "    .dataframe tbody tr th:only-of-type {\n",
       "        vertical-align: middle;\n",
       "    }\n",
       "\n",
       "    .dataframe tbody tr th {\n",
       "        vertical-align: top;\n",
       "    }\n",
       "\n",
       "    .dataframe thead th {\n",
       "        text-align: right;\n",
       "    }\n",
       "</style>\n",
       "<table border=\"1\" class=\"dataframe\">\n",
       "  <thead>\n",
       "    <tr style=\"text-align: right;\">\n",
       "      <th></th>\n",
       "      <th>variable 2</th>\n",
       "      <th>variable 3</th>\n",
       "      <th>variable 4</th>\n",
       "      <th>variable 5</th>\n",
       "      <th>variable 7</th>\n",
       "      <th>time_diff</th>\n",
       "      <th>Date</th>\n",
       "    </tr>\n",
       "    <tr>\n",
       "      <th>TimeStamp</th>\n",
       "      <th></th>\n",
       "      <th></th>\n",
       "      <th></th>\n",
       "      <th></th>\n",
       "      <th></th>\n",
       "      <th></th>\n",
       "      <th></th>\n",
       "    </tr>\n",
       "  </thead>\n",
       "  <tbody>\n",
       "    <tr>\n",
       "      <th>2019-11-05 20:21:24.089399+00:00</th>\n",
       "      <td>208.786</td>\n",
       "      <td>179.392</td>\n",
       "      <td>757.987</td>\n",
       "      <td>124.053</td>\n",
       "      <td>NaN</td>\n",
       "      <td>NaN</td>\n",
       "      <td>2019-11-05</td>\n",
       "    </tr>\n",
       "    <tr>\n",
       "      <th>2019-11-06 20:21:24.089399+00:00</th>\n",
       "      <td>218.476</td>\n",
       "      <td>176.274</td>\n",
       "      <td>756.864</td>\n",
       "      <td>123.671</td>\n",
       "      <td>176.368</td>\n",
       "      <td>5.0</td>\n",
       "      <td>2019-11-06</td>\n",
       "    </tr>\n",
       "    <tr>\n",
       "      <th>2019-11-07 20:21:24.089399+00:00</th>\n",
       "      <td>225.278</td>\n",
       "      <td>180.019</td>\n",
       "      <td>949.814</td>\n",
       "      <td>124.226</td>\n",
       "      <td>179.984</td>\n",
       "      <td>0.0</td>\n",
       "      <td>2019-11-07</td>\n",
       "    </tr>\n",
       "    <tr>\n",
       "      <th>2019-11-08 20:21:24.089399+00:00</th>\n",
       "      <td>215.598</td>\n",
       "      <td>168.432</td>\n",
       "      <td>761.880</td>\n",
       "      <td>124.313</td>\n",
       "      <td>168.460</td>\n",
       "      <td>0.0</td>\n",
       "      <td>2019-11-08</td>\n",
       "    </tr>\n",
       "    <tr>\n",
       "      <th>2019-11-09 20:21:24.089399+00:00</th>\n",
       "      <td>240.476</td>\n",
       "      <td>186.820</td>\n",
       "      <td>1886.441</td>\n",
       "      <td>128.118</td>\n",
       "      <td>NaN</td>\n",
       "      <td>0.0</td>\n",
       "      <td>2019-11-09</td>\n",
       "    </tr>\n",
       "    <tr>\n",
       "      <th>...</th>\n",
       "      <td>...</td>\n",
       "      <td>...</td>\n",
       "      <td>...</td>\n",
       "      <td>...</td>\n",
       "      <td>...</td>\n",
       "      <td>...</td>\n",
       "      <td>...</td>\n",
       "    </tr>\n",
       "    <tr>\n",
       "      <th>2020-01-16 20:21:24.089399+00:00</th>\n",
       "      <td>228.182</td>\n",
       "      <td>183.179</td>\n",
       "      <td>750.627</td>\n",
       "      <td>123.521</td>\n",
       "      <td>NaN</td>\n",
       "      <td>0.0</td>\n",
       "      <td>2020-01-09</td>\n",
       "    </tr>\n",
       "    <tr>\n",
       "      <th>2020-01-17 20:21:24.089399+00:00</th>\n",
       "      <td>228.182</td>\n",
       "      <td>183.179</td>\n",
       "      <td>750.627</td>\n",
       "      <td>123.521</td>\n",
       "      <td>NaN</td>\n",
       "      <td>0.0</td>\n",
       "      <td>2020-01-09</td>\n",
       "    </tr>\n",
       "    <tr>\n",
       "      <th>2020-01-18 20:21:24.089399+00:00</th>\n",
       "      <td>228.182</td>\n",
       "      <td>183.179</td>\n",
       "      <td>750.627</td>\n",
       "      <td>123.521</td>\n",
       "      <td>NaN</td>\n",
       "      <td>0.0</td>\n",
       "      <td>2020-01-09</td>\n",
       "    </tr>\n",
       "    <tr>\n",
       "      <th>2020-01-19 20:21:24.089399+00:00</th>\n",
       "      <td>228.182</td>\n",
       "      <td>183.179</td>\n",
       "      <td>750.627</td>\n",
       "      <td>123.521</td>\n",
       "      <td>NaN</td>\n",
       "      <td>0.0</td>\n",
       "      <td>2020-01-09</td>\n",
       "    </tr>\n",
       "    <tr>\n",
       "      <th>2020-01-20 20:21:24.089399+00:00</th>\n",
       "      <td>247.343</td>\n",
       "      <td>182.817</td>\n",
       "      <td>1947.436</td>\n",
       "      <td>126.377</td>\n",
       "      <td>183.370</td>\n",
       "      <td>0.0</td>\n",
       "      <td>2020-01-20</td>\n",
       "    </tr>\n",
       "  </tbody>\n",
       "</table>\n",
       "<p>77 rows × 7 columns</p>\n",
       "</div>"
      ],
      "text/plain": [
       "                                  variable 2  variable 3  variable 4  \\\n",
       "TimeStamp                                                              \n",
       "2019-11-05 20:21:24.089399+00:00     208.786     179.392     757.987   \n",
       "2019-11-06 20:21:24.089399+00:00     218.476     176.274     756.864   \n",
       "2019-11-07 20:21:24.089399+00:00     225.278     180.019     949.814   \n",
       "2019-11-08 20:21:24.089399+00:00     215.598     168.432     761.880   \n",
       "2019-11-09 20:21:24.089399+00:00     240.476     186.820    1886.441   \n",
       "...                                      ...         ...         ...   \n",
       "2020-01-16 20:21:24.089399+00:00     228.182     183.179     750.627   \n",
       "2020-01-17 20:21:24.089399+00:00     228.182     183.179     750.627   \n",
       "2020-01-18 20:21:24.089399+00:00     228.182     183.179     750.627   \n",
       "2020-01-19 20:21:24.089399+00:00     228.182     183.179     750.627   \n",
       "2020-01-20 20:21:24.089399+00:00     247.343     182.817    1947.436   \n",
       "\n",
       "                                  variable 5  variable 7  time_diff  \\\n",
       "TimeStamp                                                             \n",
       "2019-11-05 20:21:24.089399+00:00     124.053         NaN        NaN   \n",
       "2019-11-06 20:21:24.089399+00:00     123.671     176.368        5.0   \n",
       "2019-11-07 20:21:24.089399+00:00     124.226     179.984        0.0   \n",
       "2019-11-08 20:21:24.089399+00:00     124.313     168.460        0.0   \n",
       "2019-11-09 20:21:24.089399+00:00     128.118         NaN        0.0   \n",
       "...                                      ...         ...        ...   \n",
       "2020-01-16 20:21:24.089399+00:00     123.521         NaN        0.0   \n",
       "2020-01-17 20:21:24.089399+00:00     123.521         NaN        0.0   \n",
       "2020-01-18 20:21:24.089399+00:00     123.521         NaN        0.0   \n",
       "2020-01-19 20:21:24.089399+00:00     123.521         NaN        0.0   \n",
       "2020-01-20 20:21:24.089399+00:00     126.377     183.370        0.0   \n",
       "\n",
       "                                        Date  \n",
       "TimeStamp                                     \n",
       "2019-11-05 20:21:24.089399+00:00  2019-11-05  \n",
       "2019-11-06 20:21:24.089399+00:00  2019-11-06  \n",
       "2019-11-07 20:21:24.089399+00:00  2019-11-07  \n",
       "2019-11-08 20:21:24.089399+00:00  2019-11-08  \n",
       "2019-11-09 20:21:24.089399+00:00  2019-11-09  \n",
       "...                                      ...  \n",
       "2020-01-16 20:21:24.089399+00:00  2020-01-09  \n",
       "2020-01-17 20:21:24.089399+00:00  2020-01-09  \n",
       "2020-01-18 20:21:24.089399+00:00  2020-01-09  \n",
       "2020-01-19 20:21:24.089399+00:00  2020-01-09  \n",
       "2020-01-20 20:21:24.089399+00:00  2020-01-20  \n",
       "\n",
       "[77 rows x 7 columns]"
      ]
     },
     "execution_count": 24,
     "metadata": {},
     "output_type": "execute_result"
    }
   ],
   "source": [
    "#making the data a continuos one using forward fill with frequency of days\n",
    "data = data.asfreq('D', method='ffill')\n",
    "data"
   ]
  },
  {
   "cell_type": "code",
   "execution_count": 25,
   "metadata": {},
   "outputs": [
    {
     "data": {
      "text/plain": [
       "Text(0.5, 0, 'TimeStamp')"
      ]
     },
     "execution_count": 25,
     "metadata": {},
     "output_type": "execute_result"
    },
    {
     "data": {
      "image/png": "[encoded data removed]",
      "text/plain": [
       "<Figure size 1440x720 with 1 Axes>"
      ]
     },
     "metadata": {
      "needs_background": "light"
     },
     "output_type": "display_data"
    }
   ],
   "source": [
    "#Let's check the continuity & discontinuity of the TimeStamp based upon the 'time_diff'\n",
    "data['time_diff'].plot(figsize=(20,10)) \n",
    "plt.xlabel(\"TimeStamp\", fontsize=16)"
   ]
  },
  {
   "cell_type": "markdown",
   "metadata": {},
   "source": [
    "**In the plot above, the continuity of the TimeStamp data is shown clearly using a line plot. The range of TimeStamp with more gaps are shown with the spikes in the plot.**"
   ]
  },
  {
   "cell_type": "code",
   "execution_count": 26,
   "metadata": {},
   "outputs": [
    {
     "data": {
      "text/html": [
       "<div>\n",
       "<style scoped>\n",
       "    .dataframe tbody tr th:only-of-type {\n",
       "        vertical-align: middle;\n",
       "    }\n",
       "\n",
       "    .dataframe tbody tr th {\n",
       "        vertical-align: top;\n",
       "    }\n",
       "\n",
       "    .dataframe thead th {\n",
       "        text-align: right;\n",
       "    }\n",
       "</style>\n",
       "<table border=\"1\" class=\"dataframe\">\n",
       "  <thead>\n",
       "    <tr style=\"text-align: right;\">\n",
       "      <th></th>\n",
       "      <th>variable 2</th>\n",
       "      <th>variable 3</th>\n",
       "      <th>variable 4</th>\n",
       "      <th>variable 5</th>\n",
       "      <th>variable 7</th>\n",
       "      <th>time_diff</th>\n",
       "      <th>Date</th>\n",
       "    </tr>\n",
       "    <tr>\n",
       "      <th>TimeStamp</th>\n",
       "      <th></th>\n",
       "      <th></th>\n",
       "      <th></th>\n",
       "      <th></th>\n",
       "      <th></th>\n",
       "      <th></th>\n",
       "      <th></th>\n",
       "    </tr>\n",
       "  </thead>\n",
       "  <tbody>\n",
       "    <tr>\n",
       "      <th>2019-11-06 20:21:24.089399+00:00</th>\n",
       "      <td>218.476</td>\n",
       "      <td>176.274</td>\n",
       "      <td>756.864</td>\n",
       "      <td>123.671</td>\n",
       "      <td>176.368</td>\n",
       "      <td>5.0</td>\n",
       "      <td>2019-11-06</td>\n",
       "    </tr>\n",
       "    <tr>\n",
       "      <th>2019-11-21 20:21:24.089399+00:00</th>\n",
       "      <td>223.579</td>\n",
       "      <td>174.548</td>\n",
       "      <td>946.444</td>\n",
       "      <td>123.657</td>\n",
       "      <td>174.560</td>\n",
       "      <td>8.0</td>\n",
       "      <td>2019-11-21</td>\n",
       "    </tr>\n",
       "    <tr>\n",
       "      <th>2019-12-23 20:21:24.089399+00:00</th>\n",
       "      <td>246.992</td>\n",
       "      <td>190.690</td>\n",
       "      <td>1959.021</td>\n",
       "      <td>126.617</td>\n",
       "      <td>190.556</td>\n",
       "      <td>5.0</td>\n",
       "      <td>2019-12-23</td>\n",
       "    </tr>\n",
       "    <tr>\n",
       "      <th>2019-12-28 20:21:24.089399+00:00</th>\n",
       "      <td>242.191</td>\n",
       "      <td>190.332</td>\n",
       "      <td>1977.979</td>\n",
       "      <td>127.241</td>\n",
       "      <td>NaN</td>\n",
       "      <td>13.0</td>\n",
       "      <td>2019-12-28</td>\n",
       "    </tr>\n",
       "    <tr>\n",
       "      <th>2019-12-30 20:21:24.089399+00:00</th>\n",
       "      <td>247.228</td>\n",
       "      <td>184.663</td>\n",
       "      <td>1982.904</td>\n",
       "      <td>127.041</td>\n",
       "      <td>NaN</td>\n",
       "      <td>20.0</td>\n",
       "      <td>2019-12-30</td>\n",
       "    </tr>\n",
       "    <tr>\n",
       "      <th>2019-12-31 20:21:24.089399+00:00</th>\n",
       "      <td>227.503</td>\n",
       "      <td>174.627</td>\n",
       "      <td>759.681</td>\n",
       "      <td>122.986</td>\n",
       "      <td>174.453</td>\n",
       "      <td>17.0</td>\n",
       "      <td>2019-12-31</td>\n",
       "    </tr>\n",
       "    <tr>\n",
       "      <th>2020-01-01 20:21:24.089399+00:00</th>\n",
       "      <td>227.503</td>\n",
       "      <td>174.627</td>\n",
       "      <td>759.681</td>\n",
       "      <td>122.986</td>\n",
       "      <td>174.453</td>\n",
       "      <td>17.0</td>\n",
       "      <td>2019-12-31</td>\n",
       "    </tr>\n",
       "    <tr>\n",
       "      <th>2020-01-06 20:21:24.089399+00:00</th>\n",
       "      <td>223.372</td>\n",
       "      <td>171.953</td>\n",
       "      <td>748.575</td>\n",
       "      <td>124.271</td>\n",
       "      <td>171.909</td>\n",
       "      <td>6.0</td>\n",
       "      <td>2020-01-06</td>\n",
       "    </tr>\n",
       "  </tbody>\n",
       "</table>\n",
       "</div>"
      ],
      "text/plain": [
       "                                  variable 2  variable 3  variable 4  \\\n",
       "TimeStamp                                                              \n",
       "2019-11-06 20:21:24.089399+00:00     218.476     176.274     756.864   \n",
       "2019-11-21 20:21:24.089399+00:00     223.579     174.548     946.444   \n",
       "2019-12-23 20:21:24.089399+00:00     246.992     190.690    1959.021   \n",
       "2019-12-28 20:21:24.089399+00:00     242.191     190.332    1977.979   \n",
       "2019-12-30 20:21:24.089399+00:00     247.228     184.663    1982.904   \n",
       "2019-12-31 20:21:24.089399+00:00     227.503     174.627     759.681   \n",
       "2020-01-01 20:21:24.089399+00:00     227.503     174.627     759.681   \n",
       "2020-01-06 20:21:24.089399+00:00     223.372     171.953     748.575   \n",
       "\n",
       "                                  variable 5  variable 7  time_diff  \\\n",
       "TimeStamp                                                             \n",
       "2019-11-06 20:21:24.089399+00:00     123.671     176.368        5.0   \n",
       "2019-11-21 20:21:24.089399+00:00     123.657     174.560        8.0   \n",
       "2019-12-23 20:21:24.089399+00:00     126.617     190.556        5.0   \n",
       "2019-12-28 20:21:24.089399+00:00     127.241         NaN       13.0   \n",
       "2019-12-30 20:21:24.089399+00:00     127.041         NaN       20.0   \n",
       "2019-12-31 20:21:24.089399+00:00     122.986     174.453       17.0   \n",
       "2020-01-01 20:21:24.089399+00:00     122.986     174.453       17.0   \n",
       "2020-01-06 20:21:24.089399+00:00     124.271     171.909        6.0   \n",
       "\n",
       "                                        Date  \n",
       "TimeStamp                                     \n",
       "2019-11-06 20:21:24.089399+00:00  2019-11-06  \n",
       "2019-11-21 20:21:24.089399+00:00  2019-11-21  \n",
       "2019-12-23 20:21:24.089399+00:00  2019-12-23  \n",
       "2019-12-28 20:21:24.089399+00:00  2019-12-28  \n",
       "2019-12-30 20:21:24.089399+00:00  2019-12-30  \n",
       "2019-12-31 20:21:24.089399+00:00  2019-12-31  \n",
       "2020-01-01 20:21:24.089399+00:00  2019-12-31  \n",
       "2020-01-06 20:21:24.089399+00:00  2020-01-06  "
      ]
     },
     "execution_count": 26,
     "metadata": {},
     "output_type": "execute_result"
    }
   ],
   "source": [
    "#getting the data, where gap in TimeStamp is 5 minutes or more\n",
    "result=data[data['time_diff']>=5]\n",
    "result"
   ]
  },
  {
   "cell_type": "markdown",
   "metadata": {},
   "source": [
    "**So, there are 1343 such entries, where the data is having discontinuity as the condition mentioned above.(>=5 minutes).**"
   ]
  },
  {
   "cell_type": "code",
   "execution_count": 27,
   "metadata": {},
   "outputs": [
    {
     "data": {
      "text/plain": [
       "Text(0.5, 0, 'TimeStamp')"
      ]
     },
     "execution_count": 27,
     "metadata": {},
     "output_type": "execute_result"
    },
    {
     "data": {
      "image/png": "[encoded data removed]",
      "text/plain": [
       "<Figure size 1440x720 with 1 Axes>"
      ]
     },
     "metadata": {
      "needs_background": "light"
     },
     "output_type": "display_data"
    }
   ],
   "source": [
    "result['time_diff'].plot(figsize=(20,10))\n",
    "plt.xlabel(\"TimeStamp\", fontsize=16)"
   ]
  },
  {
   "cell_type": "markdown",
   "metadata": {},
   "source": [
    "**Here is the continuity plot of the TimeStamps having time gap of 5 or more minutes.**"
   ]
  },
  {
   "cell_type": "code",
   "execution_count": 28,
   "metadata": {},
   "outputs": [
    {
     "data": {
      "text/html": [
       "<div>\n",
       "<style scoped>\n",
       "    .dataframe tbody tr th:only-of-type {\n",
       "        vertical-align: middle;\n",
       "    }\n",
       "\n",
       "    .dataframe tbody tr th {\n",
       "        vertical-align: top;\n",
       "    }\n",
       "\n",
       "    .dataframe thead th {\n",
       "        text-align: right;\n",
       "    }\n",
       "</style>\n",
       "<table border=\"1\" class=\"dataframe\">\n",
       "  <thead>\n",
       "    <tr style=\"text-align: right;\">\n",
       "      <th></th>\n",
       "      <th>variable 2</th>\n",
       "      <th>variable 3</th>\n",
       "      <th>variable 4</th>\n",
       "      <th>variable 5</th>\n",
       "      <th>variable 7</th>\n",
       "      <th>time_diff</th>\n",
       "      <th>Date</th>\n",
       "    </tr>\n",
       "    <tr>\n",
       "      <th>TimeStamp</th>\n",
       "      <th></th>\n",
       "      <th></th>\n",
       "      <th></th>\n",
       "      <th></th>\n",
       "      <th></th>\n",
       "      <th></th>\n",
       "      <th></th>\n",
       "    </tr>\n",
       "  </thead>\n",
       "  <tbody>\n",
       "    <tr>\n",
       "      <th>2019-11-05 20:21:24.089399+00:00</th>\n",
       "      <td>208.786</td>\n",
       "      <td>179.392</td>\n",
       "      <td>757.987</td>\n",
       "      <td>124.053</td>\n",
       "      <td>NaN</td>\n",
       "      <td>NaN</td>\n",
       "      <td>2019-11-05</td>\n",
       "    </tr>\n",
       "    <tr>\n",
       "      <th>2019-11-06 20:21:24.089399+00:00</th>\n",
       "      <td>218.476</td>\n",
       "      <td>176.274</td>\n",
       "      <td>756.864</td>\n",
       "      <td>123.671</td>\n",
       "      <td>176.368</td>\n",
       "      <td>5.0</td>\n",
       "      <td>2019-11-06</td>\n",
       "    </tr>\n",
       "    <tr>\n",
       "      <th>2019-11-07 20:21:24.089399+00:00</th>\n",
       "      <td>225.278</td>\n",
       "      <td>180.019</td>\n",
       "      <td>949.814</td>\n",
       "      <td>124.226</td>\n",
       "      <td>179.984</td>\n",
       "      <td>0.0</td>\n",
       "      <td>2019-11-07</td>\n",
       "    </tr>\n",
       "    <tr>\n",
       "      <th>2019-11-08 20:21:24.089399+00:00</th>\n",
       "      <td>215.598</td>\n",
       "      <td>168.432</td>\n",
       "      <td>761.880</td>\n",
       "      <td>124.313</td>\n",
       "      <td>168.460</td>\n",
       "      <td>0.0</td>\n",
       "      <td>2019-11-08</td>\n",
       "    </tr>\n",
       "    <tr>\n",
       "      <th>2019-11-09 20:21:24.089399+00:00</th>\n",
       "      <td>240.476</td>\n",
       "      <td>186.820</td>\n",
       "      <td>1886.441</td>\n",
       "      <td>128.118</td>\n",
       "      <td>NaN</td>\n",
       "      <td>0.0</td>\n",
       "      <td>2019-11-09</td>\n",
       "    </tr>\n",
       "  </tbody>\n",
       "</table>\n",
       "</div>"
      ],
      "text/plain": [
       "                                  variable 2  variable 3  variable 4  \\\n",
       "TimeStamp                                                              \n",
       "2019-11-05 20:21:24.089399+00:00     208.786     179.392     757.987   \n",
       "2019-11-06 20:21:24.089399+00:00     218.476     176.274     756.864   \n",
       "2019-11-07 20:21:24.089399+00:00     225.278     180.019     949.814   \n",
       "2019-11-08 20:21:24.089399+00:00     215.598     168.432     761.880   \n",
       "2019-11-09 20:21:24.089399+00:00     240.476     186.820    1886.441   \n",
       "\n",
       "                                  variable 5  variable 7  time_diff  \\\n",
       "TimeStamp                                                             \n",
       "2019-11-05 20:21:24.089399+00:00     124.053         NaN        NaN   \n",
       "2019-11-06 20:21:24.089399+00:00     123.671     176.368        5.0   \n",
       "2019-11-07 20:21:24.089399+00:00     124.226     179.984        0.0   \n",
       "2019-11-08 20:21:24.089399+00:00     124.313     168.460        0.0   \n",
       "2019-11-09 20:21:24.089399+00:00     128.118         NaN        0.0   \n",
       "\n",
       "                                        Date  \n",
       "TimeStamp                                     \n",
       "2019-11-05 20:21:24.089399+00:00  2019-11-05  \n",
       "2019-11-06 20:21:24.089399+00:00  2019-11-06  \n",
       "2019-11-07 20:21:24.089399+00:00  2019-11-07  \n",
       "2019-11-08 20:21:24.089399+00:00  2019-11-08  \n",
       "2019-11-09 20:21:24.089399+00:00  2019-11-09  "
      ]
     },
     "execution_count": 28,
     "metadata": {},
     "output_type": "execute_result"
    }
   ],
   "source": [
    "data.head()"
   ]
  },
  {
   "cell_type": "code",
   "execution_count": 29,
   "metadata": {},
   "outputs": [
    {
     "data": {
      "image/png": "[encoded data removed]",
      "text/plain": [
       "<Figure size 720x288 with 1 Axes>"
      ]
     },
     "metadata": {
      "needs_background": "light"
     },
     "output_type": "display_data"
    },
    {
     "data": {
      "image/png": "[encoded data removed]",
      "text/plain": [
       "<Figure size 720x288 with 1 Axes>"
      ]
     },
     "metadata": {
      "needs_background": "light"
     },
     "output_type": "display_data"
    },
    {
     "data": {
      "image/png": "[encoded data removed]",
      "text/plain": [
       "<Figure size 720x288 with 1 Axes>"
      ]
     },
     "metadata": {
      "needs_background": "light"
     },
     "output_type": "display_data"
    },
    {
     "data": {
      "image/png": "[encoded data removed]",
      "text/plain": [
       "<Figure size 720x288 with 1 Axes>"
      ]
     },
     "metadata": {
      "needs_background": "light"
     },
     "output_type": "display_data"
    },
    {
     "data": {
      "image/png": "[encoded data removed]",
      "text/plain": [
       "<Figure size 720x288 with 1 Axes>"
      ]
     },
     "metadata": {
      "needs_background": "light"
     },
     "output_type": "display_data"
    },
    {
     "data": {
      "image/png": "[encoded data removed]",
      "text/plain": [
       "<Figure size 720x288 with 1 Axes>"
      ]
     },
     "metadata": {
      "needs_background": "light"
     },
     "output_type": "display_data"
    },
    {
     "data": {
      "image/png": "[encoded data removed]",
      "text/plain": [
       "<Figure size 720x288 with 1 Axes>"
      ]
     },
     "metadata": {
      "needs_background": "light"
     },
     "output_type": "display_data"
    },
    {
     "data": {
      "image/png": "[encoded data removed]",
      "text/plain": [
       "<Figure size 720x288 with 1 Axes>"
      ]
     },
     "metadata": {
      "needs_background": "light"
     },
     "output_type": "display_data"
    },
    {
     "data": {
      "image/png": "[encoded data removed]",
      "text/plain": [
       "<Figure size 720x288 with 1 Axes>"
      ]
     },
     "metadata": {
      "needs_background": "light"
     },
     "output_type": "display_data"
    },
    {
     "data": {
      "image/png": "[encoded data removed]",
      "text/plain": [
       "<Figure size 720x288 with 1 Axes>"
      ]
     },
     "metadata": {
      "needs_background": "light"
     },
     "output_type": "display_data"
    },
    {
     "data": {
      "image/png": "[encoded data removed]",
      "text/plain": [
       "<Figure size 720x288 with 1 Axes>"
      ]
     },
     "metadata": {
      "needs_background": "light"
     },
     "output_type": "display_data"
    },
    {
     "data": {
      "image/png": "[encoded data removed]",
      "text/plain": [
       "<Figure size 720x288 with 1 Axes>"
      ]
     },
     "metadata": {
      "needs_background": "light"
     },
     "output_type": "display_data"
    },
    {
     "data": {
      "image/png": "[encoded data removed]",
      "text/plain": [
       "<Figure size 720x288 with 1 Axes>"
      ]
     },
     "metadata": {
      "needs_background": "light"
     },
     "output_type": "display_data"
    },
    {
     "data": {
      "image/png": "[encoded data removed]",
      "text/plain": [
       "<Figure size 720x288 with 1 Axes>"
      ]
     },
     "metadata": {
      "needs_background": "light"
     },
     "output_type": "display_data"
    },
    {
     "data": {
      "image/png": "[encoded data removed]",
      "text/plain": [
       "<Figure size 720x288 with 1 Axes>"
      ]
     },
     "metadata": {
      "needs_background": "light"
     },
     "output_type": "display_data"
    },
    {
     "data": {
      "image/png": "[encoded data removed]",
      "text/plain": [
       "<Figure size 720x288 with 1 Axes>"
      ]
     },
     "metadata": {
      "needs_background": "light"
     },
     "output_type": "display_data"
    }
   ],
   "source": [
    "#To create the 5 days windows we will run our program (77/5)+1=16 times starting from 0.\n",
    "for i in range(0,16,1):\n",
    "    dt=data[np.logical_and(data.index >=min(data.index)+5*i*timedelta(days=1), data.index<min(data.index)+5*(i+1)*timedelta(days=1))]\n",
    "    plt.figure(figsize=(10,4))\n",
    "    plt.subplot(111)\n",
    "    sns.boxplot(dt['variable 3'])\n",
    "    plt.tight_layout()\n",
    "    plt.show()\n"
   ]
  },
  {
   "cell_type": "code",
   "execution_count": 30,
   "metadata": {
    "scrolled": false
   },
   "outputs": [
    {
     "data": {
      "image/png": "[encoded data removed]",
      "text/plain": [
       "<Figure size 864x576 with 1 Axes>"
      ]
     },
     "metadata": {
      "needs_background": "light"
     },
     "output_type": "display_data"
    },
    {
     "data": {
      "image/png": "[encoded data removed]",
      "text/plain": [
       "<Figure size 864x576 with 1 Axes>"
      ]
     },
     "metadata": {
      "needs_background": "light"
     },
     "output_type": "display_data"
    },
    {
     "data": {
      "image/png": "[encoded data removed]",
      "text/plain": [
       "<Figure size 864x576 with 1 Axes>"
      ]
     },
     "metadata": {
      "needs_background": "light"
     },
     "output_type": "display_data"
    },
    {
     "data": {
      "image/png": "[encoded data removed]",
      "text/plain": [
       "<Figure size 864x576 with 1 Axes>"
      ]
     },
     "metadata": {
      "needs_background": "light"
     },
     "output_type": "display_data"
    },
    {
     "data": {
      "image/png": "[encoded data removed]",
      "text/plain": [
       "<Figure size 864x576 with 1 Axes>"
      ]
     },
     "metadata": {
      "needs_background": "light"
     },
     "output_type": "display_data"
    },
    {
     "data": {
      "image/png": "[encoded data removed]",
      "text/plain": [
       "<Figure size 864x576 with 1 Axes>"
      ]
     },
     "metadata": {
      "needs_background": "light"
     },
     "output_type": "display_data"
    },
    {
     "data": {
      "image/png": "[encoded data removed]",
      "text/plain": [
       "<Figure size 864x576 with 1 Axes>"
      ]
     },
     "metadata": {
      "needs_background": "light"
     },
     "output_type": "display_data"
    },
    {
     "data": {
      "image/png": "[encoded data removed]",
      "text/plain": [
       "<Figure size 864x576 with 1 Axes>"
      ]
     },
     "metadata": {
      "needs_background": "light"
     },
     "output_type": "display_data"
    },
    {
     "data": {
      "image/png": "[encoded data removed]",
      "text/plain": [
       "<Figure size 864x576 with 1 Axes>"
      ]
     },
     "metadata": {
      "needs_background": "light"
     },
     "output_type": "display_data"
    },
    {
     "data": {
      "image/png": "[encoded data removed]",
      "text/plain": [
       "<Figure size 864x576 with 1 Axes>"
      ]
     },
     "metadata": {
      "needs_background": "light"
     },
     "output_type": "display_data"
    },
    {
     "data": {
      "image/png": "[encoded data removed]",
      "text/plain": [
       "<Figure size 864x576 with 1 Axes>"
      ]
     },
     "metadata": {
      "needs_background": "light"
     },
     "output_type": "display_data"
    },
    {
     "data": {
      "image/png": "[encoded data removed]",
      "text/plain": [
       "<Figure size 864x576 with 1 Axes>"
      ]
     },
     "metadata": {
      "needs_background": "light"
     },
     "output_type": "display_data"
    },
    {
     "data": {
      "image/png": "[encoded data removed]",
      "text/plain": [
       "<Figure size 864x576 with 1 Axes>"
      ]
     },
     "metadata": {
      "needs_background": "light"
     },
     "output_type": "display_data"
    },
    {
     "data": {
      "image/png": "[encoded data removed]",
      "text/plain": [
       "<Figure size 864x576 with 1 Axes>"
      ]
     },
     "metadata": {
      "needs_background": "light"
     },
     "output_type": "display_data"
    },
    {
     "data": {
      "image/png": "[encoded data removed]",
      "text/plain": [
       "<Figure size 864x576 with 1 Axes>"
      ]
     },
     "metadata": {
      "needs_background": "light"
     },
     "output_type": "display_data"
    },
    {
     "data": {
      "image/png": "[encoded data removed]",
      "text/plain": [
       "<Figure size 864x576 with 1 Axes>"
      ]
     },
     "metadata": {
      "needs_background": "light"
     },
     "output_type": "display_data"
    }
   ],
   "source": [
    "#Showing the distribution of 'variable 3' as well as 'variable 2' in each 5 day window via different colours in overlaying boxplots\n",
    "for i in range(0,16,1):\n",
    "    dt=data[np.logical_and(data.index >=min(data.index)+5*i*timedelta(days=1), data.index<min(data.index)+5*(i+1)*timedelta(days=1))]\n",
    "    plt.figure(figsize=(12,8))\n",
    "    plt.subplot(111)\n",
    "    sns.boxplot(x=\"variable\", y=\"value\", data=pd.melt(dt[['variable 3','variable 2']]))\n",
    "    plt.tight_layout()\n",
    "    plt.show()"
   ]
  },
  {
   "cell_type": "code",
   "execution_count": 31,
   "metadata": {},
   "outputs": [
    {
     "data": {
      "text/plain": [
       "[179.392,\n",
       " 60.644,\n",
       " 60.644,\n",
       " 166.78900000000002,\n",
       " 177.90200000000002,\n",
       " 177.90200000000002,\n",
       " 164.765,\n",
       " 167.202,\n",
       " 167.202,\n",
       " 166.865,\n",
       " 181.71200000000002,\n",
       " 174.627,\n",
       " 184.695,\n",
       " 183.179,\n",
       " 183.179,\n",
       " 182.998]"
      ]
     },
     "execution_count": 31,
     "metadata": {},
     "output_type": "execute_result"
    }
   ],
   "source": [
    "#Getting the median of variable 3 for each 5 day window\n",
    "median_v3=[]\n",
    "for i in range(0,16,1):\n",
    "    dt=data[np.logical_and(data.index >=min(data.index)+5*i*timedelta(days=1), data.index<min(data.index)+5*(i+1)*timedelta(days=1))]\n",
    "    med=dt['variable 3'].median()\n",
    "    median_v3.append(med)\n",
    "median_v3"
   ]
  },
  {
   "cell_type": "code",
   "execution_count": 32,
   "metadata": {},
   "outputs": [
    {
     "data": {
      "text/plain": [
       "[218.476,\n",
       " 206.172,\n",
       " 206.172,\n",
       " 223.579,\n",
       " 226.075,\n",
       " 226.075,\n",
       " 215.81,\n",
       " 216.00400000000002,\n",
       " 203.94099999999997,\n",
       " 232.65900000000002,\n",
       " 242.389,\n",
       " 227.503,\n",
       " 230.37099999999998,\n",
       " 228.18200000000002,\n",
       " 228.18200000000002,\n",
       " 237.7625]"
      ]
     },
     "execution_count": 32,
     "metadata": {},
     "output_type": "execute_result"
    }
   ],
   "source": [
    "#Getting the median of variable 2 for each 5 day window\n",
    "median_v2=[]\n",
    "for i in range(0,16,1):\n",
    "    dt=data[np.logical_and(data.index >=min(data.index)+5*i*timedelta(days=1), data.index<min(data.index)+5*(i+1)*timedelta(days=1))]\n",
    "    med=dt['variable 2'].median()\n",
    "    median_v2.append(med)\n",
    "median_v2"
   ]
  },
  {
   "cell_type": "code",
   "execution_count": 37,
   "metadata": {},
   "outputs": [
    {
     "data": {
      "image/png": "[encoded data removed]",
      "text/plain": [
       "<Figure size 432x288 with 1 Axes>"
      ]
     },
     "metadata": {
      "needs_background": "light"
     },
     "output_type": "display_data"
    }
   ],
   "source": [
    "#Plotting the scatter plot between the medians of variable 2 and variable 3 of all the 5 day windows\n",
    "plt.scatter(median_v2,median_v3)\n",
    "plt.title(\"Variable 2 vs Variable 3\")\n",
    "plt.show()"
   ]
  },
  {
   "cell_type": "markdown",
   "metadata": {},
   "source": [
    "**As the Scatter plot suggests, there is good correlation between the Variables throughout. It is clear that Pearson's Correlation would be greater than 50% here. That suggests, quiet good correlation between the features variable 2 and variable 3. So, let's calculate the Pearson's correlation using the inbuilt function of scipy library!**"
   ]
  },
  {
   "cell_type": "code",
   "execution_count": 35,
   "metadata": {},
   "outputs": [
    {
     "data": {
      "text/plain": [
       "array([[ 125.68822732,  297.4374098 ],\n",
       "       [ 297.4374098 , 1590.28659126]])"
      ]
     },
     "execution_count": 35,
     "metadata": {},
     "output_type": "execute_result"
    }
   ],
   "source": [
    "#Calculating the covariance between the variables\n",
    "covariance = np.cov(median_v2, median_v3)\n",
    "covariance"
   ]
  },
  {
   "cell_type": "code",
   "execution_count": 36,
   "metadata": {},
   "outputs": [
    {
     "name": "stdout",
     "output_type": "stream",
     "text": [
      "Pearsons correlation: 0.6653\n"
     ]
    }
   ],
   "source": [
    "# Calculating Pearson's correlation\n",
    "from scipy.stats import pearsonr\n",
    "corr, _ = pearsonr(median_v2, median_v3)\n",
    "print('Pearsons correlation: %.4f' % corr)"
   ]
  },
  {
   "cell_type": "markdown",
   "metadata": {},
   "source": [
    "**Hence the actual correlation between variable 2 and variable 3 is 66.53%. So, it can be concluded that these features and quiet highly correlated as such!**"
   ]
  },
  {
   "cell_type": "markdown",
   "metadata": {},
   "source": [
    "# Building the Regression Model"
   ]
  },
  {
   "cell_type": "code",
   "execution_count": 202,
   "metadata": {},
   "outputs": [
    {
     "data": {
      "text/html": [
       "<div>\n",
       "<style scoped>\n",
       "    .dataframe tbody tr th:only-of-type {\n",
       "        vertical-align: middle;\n",
       "    }\n",
       "\n",
       "    .dataframe tbody tr th {\n",
       "        vertical-align: top;\n",
       "    }\n",
       "\n",
       "    .dataframe thead th {\n",
       "        text-align: right;\n",
       "    }\n",
       "</style>\n",
       "<table border=\"1\" class=\"dataframe\">\n",
       "  <thead>\n",
       "    <tr style=\"text-align: right;\">\n",
       "      <th></th>\n",
       "      <th>variable 2</th>\n",
       "      <th>variable 3</th>\n",
       "      <th>variable 4</th>\n",
       "      <th>variable 5</th>\n",
       "      <th>variable 7</th>\n",
       "      <th>time_diff</th>\n",
       "      <th>Date</th>\n",
       "    </tr>\n",
       "    <tr>\n",
       "      <th>TimeStamp</th>\n",
       "      <th></th>\n",
       "      <th></th>\n",
       "      <th></th>\n",
       "      <th></th>\n",
       "      <th></th>\n",
       "      <th></th>\n",
       "      <th></th>\n",
       "    </tr>\n",
       "  </thead>\n",
       "  <tbody>\n",
       "    <tr>\n",
       "      <th>2019-11-05 20:21:24.089399+00:00</th>\n",
       "      <td>208.786</td>\n",
       "      <td>179.392</td>\n",
       "      <td>757.987</td>\n",
       "      <td>124.053</td>\n",
       "      <td>NaN</td>\n",
       "      <td>NaN</td>\n",
       "      <td>2019-11-05</td>\n",
       "    </tr>\n",
       "    <tr>\n",
       "      <th>2019-11-06 20:21:24.089399+00:00</th>\n",
       "      <td>218.476</td>\n",
       "      <td>176.274</td>\n",
       "      <td>756.864</td>\n",
       "      <td>123.671</td>\n",
       "      <td>176.368</td>\n",
       "      <td>5.0</td>\n",
       "      <td>2019-11-06</td>\n",
       "    </tr>\n",
       "    <tr>\n",
       "      <th>2019-11-07 20:21:24.089399+00:00</th>\n",
       "      <td>225.278</td>\n",
       "      <td>180.019</td>\n",
       "      <td>949.814</td>\n",
       "      <td>124.226</td>\n",
       "      <td>179.984</td>\n",
       "      <td>0.0</td>\n",
       "      <td>2019-11-07</td>\n",
       "    </tr>\n",
       "    <tr>\n",
       "      <th>2019-11-08 20:21:24.089399+00:00</th>\n",
       "      <td>215.598</td>\n",
       "      <td>168.432</td>\n",
       "      <td>761.880</td>\n",
       "      <td>124.313</td>\n",
       "      <td>168.460</td>\n",
       "      <td>0.0</td>\n",
       "      <td>2019-11-08</td>\n",
       "    </tr>\n",
       "    <tr>\n",
       "      <th>2019-11-09 20:21:24.089399+00:00</th>\n",
       "      <td>240.476</td>\n",
       "      <td>186.820</td>\n",
       "      <td>1886.441</td>\n",
       "      <td>128.118</td>\n",
       "      <td>NaN</td>\n",
       "      <td>0.0</td>\n",
       "      <td>2019-11-09</td>\n",
       "    </tr>\n",
       "  </tbody>\n",
       "</table>\n",
       "</div>"
      ],
      "text/plain": [
       "                                  variable 2  variable 3  variable 4  \\\n",
       "TimeStamp                                                              \n",
       "2019-11-05 20:21:24.089399+00:00     208.786     179.392     757.987   \n",
       "2019-11-06 20:21:24.089399+00:00     218.476     176.274     756.864   \n",
       "2019-11-07 20:21:24.089399+00:00     225.278     180.019     949.814   \n",
       "2019-11-08 20:21:24.089399+00:00     215.598     168.432     761.880   \n",
       "2019-11-09 20:21:24.089399+00:00     240.476     186.820    1886.441   \n",
       "\n",
       "                                  variable 5  variable 7  time_diff  \\\n",
       "TimeStamp                                                             \n",
       "2019-11-05 20:21:24.089399+00:00     124.053         NaN        NaN   \n",
       "2019-11-06 20:21:24.089399+00:00     123.671     176.368        5.0   \n",
       "2019-11-07 20:21:24.089399+00:00     124.226     179.984        0.0   \n",
       "2019-11-08 20:21:24.089399+00:00     124.313     168.460        0.0   \n",
       "2019-11-09 20:21:24.089399+00:00     128.118         NaN        0.0   \n",
       "\n",
       "                                        Date  \n",
       "TimeStamp                                     \n",
       "2019-11-05 20:21:24.089399+00:00  2019-11-05  \n",
       "2019-11-06 20:21:24.089399+00:00  2019-11-06  \n",
       "2019-11-07 20:21:24.089399+00:00  2019-11-07  \n",
       "2019-11-08 20:21:24.089399+00:00  2019-11-08  \n",
       "2019-11-09 20:21:24.089399+00:00  2019-11-09  "
      ]
     },
     "execution_count": 202,
     "metadata": {},
     "output_type": "execute_result"
    }
   ],
   "source": [
    "data.head()"
   ]
  },
  {
   "cell_type": "code",
   "execution_count": 203,
   "metadata": {},
   "outputs": [
    {
     "data": {
      "text/html": [
       "<div>\n",
       "<style scoped>\n",
       "    .dataframe tbody tr th:only-of-type {\n",
       "        vertical-align: middle;\n",
       "    }\n",
       "\n",
       "    .dataframe tbody tr th {\n",
       "        vertical-align: top;\n",
       "    }\n",
       "\n",
       "    .dataframe thead th {\n",
       "        text-align: right;\n",
       "    }\n",
       "</style>\n",
       "<table border=\"1\" class=\"dataframe\">\n",
       "  <thead>\n",
       "    <tr style=\"text-align: right;\">\n",
       "      <th></th>\n",
       "      <th>variable 2</th>\n",
       "      <th>variable 3</th>\n",
       "      <th>variable 4</th>\n",
       "      <th>variable 5</th>\n",
       "      <th>variable 7</th>\n",
       "    </tr>\n",
       "    <tr>\n",
       "      <th>TimeStamp</th>\n",
       "      <th></th>\n",
       "      <th></th>\n",
       "      <th></th>\n",
       "      <th></th>\n",
       "      <th></th>\n",
       "    </tr>\n",
       "  </thead>\n",
       "  <tbody>\n",
       "    <tr>\n",
       "      <th>2019-11-05 20:21:24.089399+00:00</th>\n",
       "      <td>208.786</td>\n",
       "      <td>179.392</td>\n",
       "      <td>757.987</td>\n",
       "      <td>124.053</td>\n",
       "      <td>NaN</td>\n",
       "    </tr>\n",
       "    <tr>\n",
       "      <th>2019-11-06 20:21:24.089399+00:00</th>\n",
       "      <td>218.476</td>\n",
       "      <td>176.274</td>\n",
       "      <td>756.864</td>\n",
       "      <td>123.671</td>\n",
       "      <td>176.368</td>\n",
       "    </tr>\n",
       "    <tr>\n",
       "      <th>2019-11-07 20:21:24.089399+00:00</th>\n",
       "      <td>225.278</td>\n",
       "      <td>180.019</td>\n",
       "      <td>949.814</td>\n",
       "      <td>124.226</td>\n",
       "      <td>179.984</td>\n",
       "    </tr>\n",
       "    <tr>\n",
       "      <th>2019-11-08 20:21:24.089399+00:00</th>\n",
       "      <td>215.598</td>\n",
       "      <td>168.432</td>\n",
       "      <td>761.880</td>\n",
       "      <td>124.313</td>\n",
       "      <td>168.460</td>\n",
       "    </tr>\n",
       "    <tr>\n",
       "      <th>2019-11-09 20:21:24.089399+00:00</th>\n",
       "      <td>240.476</td>\n",
       "      <td>186.820</td>\n",
       "      <td>1886.441</td>\n",
       "      <td>128.118</td>\n",
       "      <td>NaN</td>\n",
       "    </tr>\n",
       "  </tbody>\n",
       "</table>\n",
       "</div>"
      ],
      "text/plain": [
       "                                  variable 2  variable 3  variable 4  \\\n",
       "TimeStamp                                                              \n",
       "2019-11-05 20:21:24.089399+00:00     208.786     179.392     757.987   \n",
       "2019-11-06 20:21:24.089399+00:00     218.476     176.274     756.864   \n",
       "2019-11-07 20:21:24.089399+00:00     225.278     180.019     949.814   \n",
       "2019-11-08 20:21:24.089399+00:00     215.598     168.432     761.880   \n",
       "2019-11-09 20:21:24.089399+00:00     240.476     186.820    1886.441   \n",
       "\n",
       "                                  variable 5  variable 7  \n",
       "TimeStamp                                                 \n",
       "2019-11-05 20:21:24.089399+00:00     124.053         NaN  \n",
       "2019-11-06 20:21:24.089399+00:00     123.671     176.368  \n",
       "2019-11-07 20:21:24.089399+00:00     124.226     179.984  \n",
       "2019-11-08 20:21:24.089399+00:00     124.313     168.460  \n",
       "2019-11-09 20:21:24.089399+00:00     128.118         NaN  "
      ]
     },
     "execution_count": 203,
     "metadata": {},
     "output_type": "execute_result"
    }
   ],
   "source": [
    "data=data.drop(['time_diff','Date'], axis=1)     #dropping the columns created for previous operations\n",
    "data.head()"
   ]
  },
  {
   "cell_type": "code",
   "execution_count": 204,
   "metadata": {},
   "outputs": [
    {
     "data": {
      "text/plain": [
       "variable 2     0\n",
       "variable 3     0\n",
       "variable 4     0\n",
       "variable 5     0\n",
       "variable 7    22\n",
       "dtype: int64"
      ]
     },
     "execution_count": 204,
     "metadata": {},
     "output_type": "execute_result"
    }
   ],
   "source": [
    "#null values\n",
    "data.isnull().sum()"
   ]
  },
  {
   "cell_type": "markdown",
   "metadata": {},
   "source": [
    "As there is a good number of Null-values, we wouldn't go for dropping the column, rather we wolud try to treat the Null values as efficiently as possible."
   ]
  },
  {
   "cell_type": "code",
   "execution_count": 205,
   "metadata": {},
   "outputs": [
    {
     "data": {
      "text/plain": [
       "174"
      ]
     },
     "execution_count": 205,
     "metadata": {},
     "output_type": "execute_result"
    }
   ],
   "source": [
    "#Using backfill method to fill the Null-values with the next value\n",
    "import math\n",
    "median_var7=math.floor(data['variable 7'].median())\n",
    "median_var7"
   ]
  },
  {
   "cell_type": "code",
   "execution_count": 206,
   "metadata": {},
   "outputs": [],
   "source": [
    "data['variable 7']=data['variable 7'].fillna(median_var7)"
   ]
  },
  {
   "cell_type": "code",
   "execution_count": 207,
   "metadata": {},
   "outputs": [
    {
     "data": {
      "text/html": [
       "<div>\n",
       "<style scoped>\n",
       "    .dataframe tbody tr th:only-of-type {\n",
       "        vertical-align: middle;\n",
       "    }\n",
       "\n",
       "    .dataframe tbody tr th {\n",
       "        vertical-align: top;\n",
       "    }\n",
       "\n",
       "    .dataframe thead th {\n",
       "        text-align: right;\n",
       "    }\n",
       "</style>\n",
       "<table border=\"1\" class=\"dataframe\">\n",
       "  <thead>\n",
       "    <tr style=\"text-align: right;\">\n",
       "      <th></th>\n",
       "      <th>variable 2</th>\n",
       "      <th>variable 3</th>\n",
       "      <th>variable 4</th>\n",
       "      <th>variable 5</th>\n",
       "      <th>variable 7</th>\n",
       "    </tr>\n",
       "    <tr>\n",
       "      <th>TimeStamp</th>\n",
       "      <th></th>\n",
       "      <th></th>\n",
       "      <th></th>\n",
       "      <th></th>\n",
       "      <th></th>\n",
       "    </tr>\n",
       "  </thead>\n",
       "  <tbody>\n",
       "    <tr>\n",
       "      <th>2019-11-05 20:21:24.089399+00:00</th>\n",
       "      <td>208.786</td>\n",
       "      <td>179.392</td>\n",
       "      <td>757.987</td>\n",
       "      <td>124.053</td>\n",
       "      <td>174.000</td>\n",
       "    </tr>\n",
       "    <tr>\n",
       "      <th>2019-11-06 20:21:24.089399+00:00</th>\n",
       "      <td>218.476</td>\n",
       "      <td>176.274</td>\n",
       "      <td>756.864</td>\n",
       "      <td>123.671</td>\n",
       "      <td>176.368</td>\n",
       "    </tr>\n",
       "    <tr>\n",
       "      <th>2019-11-07 20:21:24.089399+00:00</th>\n",
       "      <td>225.278</td>\n",
       "      <td>180.019</td>\n",
       "      <td>949.814</td>\n",
       "      <td>124.226</td>\n",
       "      <td>179.984</td>\n",
       "    </tr>\n",
       "    <tr>\n",
       "      <th>2019-11-08 20:21:24.089399+00:00</th>\n",
       "      <td>215.598</td>\n",
       "      <td>168.432</td>\n",
       "      <td>761.880</td>\n",
       "      <td>124.313</td>\n",
       "      <td>168.460</td>\n",
       "    </tr>\n",
       "    <tr>\n",
       "      <th>2019-11-09 20:21:24.089399+00:00</th>\n",
       "      <td>240.476</td>\n",
       "      <td>186.820</td>\n",
       "      <td>1886.441</td>\n",
       "      <td>128.118</td>\n",
       "      <td>174.000</td>\n",
       "    </tr>\n",
       "  </tbody>\n",
       "</table>\n",
       "</div>"
      ],
      "text/plain": [
       "                                  variable 2  variable 3  variable 4  \\\n",
       "TimeStamp                                                              \n",
       "2019-11-05 20:21:24.089399+00:00     208.786     179.392     757.987   \n",
       "2019-11-06 20:21:24.089399+00:00     218.476     176.274     756.864   \n",
       "2019-11-07 20:21:24.089399+00:00     225.278     180.019     949.814   \n",
       "2019-11-08 20:21:24.089399+00:00     215.598     168.432     761.880   \n",
       "2019-11-09 20:21:24.089399+00:00     240.476     186.820    1886.441   \n",
       "\n",
       "                                  variable 5  variable 7  \n",
       "TimeStamp                                                 \n",
       "2019-11-05 20:21:24.089399+00:00     124.053     174.000  \n",
       "2019-11-06 20:21:24.089399+00:00     123.671     176.368  \n",
       "2019-11-07 20:21:24.089399+00:00     124.226     179.984  \n",
       "2019-11-08 20:21:24.089399+00:00     124.313     168.460  \n",
       "2019-11-09 20:21:24.089399+00:00     128.118     174.000  "
      ]
     },
     "execution_count": 207,
     "metadata": {},
     "output_type": "execute_result"
    }
   ],
   "source": [
    "data.head()"
   ]
  },
  {
   "cell_type": "code",
   "execution_count": 208,
   "metadata": {},
   "outputs": [
    {
     "data": {
      "text/plain": [
       "variable 2    0\n",
       "variable 3    0\n",
       "variable 4    0\n",
       "variable 5    0\n",
       "variable 7    0\n",
       "dtype: int64"
      ]
     },
     "execution_count": 208,
     "metadata": {},
     "output_type": "execute_result"
    }
   ],
   "source": [
    "#Checking whether the null values are filled or not\n",
    "data.isnull().sum()"
   ]
  },
  {
   "cell_type": "markdown",
   "metadata": {},
   "source": [
    "**We have successfully treated the Null-values.**"
   ]
  },
  {
   "cell_type": "code",
   "execution_count": 209,
   "metadata": {},
   "outputs": [
    {
     "data": {
      "text/plain": [
       "<matplotlib.axes._subplots.AxesSubplot at 0x1647dee0670>"
      ]
     },
     "execution_count": 209,
     "metadata": {},
     "output_type": "execute_result"
    },
    {
     "data": {
      "image/png": "[encoded data removed]",
      "text/plain": [
       "<Figure size 1080x720 with 2 Axes>"
      ]
     },
     "metadata": {
      "needs_background": "light"
     },
     "output_type": "display_data"
    }
   ],
   "source": [
    "#Let's check the correlation between the features\n",
    "f,ax=plt.subplots(figsize=(15,10))\n",
    "sns.heatmap(data.corr(method='pearson'), annot=True, fmt= '.1f',ax=ax, cmap=\"YlOrRd\")"
   ]
  },
  {
   "cell_type": "markdown",
   "metadata": {},
   "source": [
    "As seen from the heatmap, maximum correlation (1) is there between variable 3 and variable 7 and there is a high correlation between variable 4 and variable 5 (0.9) also.The correlation of variable 4 is high (0.8) with our target variable, variable 2."
   ]
  },
  {
   "cell_type": "code",
   "execution_count": 210,
   "metadata": {},
   "outputs": [],
   "source": [
    "#Set the independent and dependent variable\n",
    "X=data[['variable 3','variable 4', 'variable 5', 'variable 7']]\n",
    "y=data['variable 2']"
   ]
  },
  {
   "cell_type": "code",
   "execution_count": 211,
   "metadata": {},
   "outputs": [],
   "source": [
    "#splitting the dataset using Scikit-Learn library\n",
    "from sklearn.model_selection import train_test_split  \n",
    "X_train, X_test, y_train, y_test = train_test_split(X, y,test_size=0.33, random_state=0)"
   ]
  },
  {
   "cell_type": "code",
   "execution_count": 212,
   "metadata": {},
   "outputs": [
    {
     "name": "stdout",
     "output_type": "stream",
     "text": [
      "(51, 4) (51,)\n",
      "(26, 4) (26,)\n"
     ]
    }
   ],
   "source": [
    "#checking the shape of trining data and test data\n",
    "print(X_train.shape, y_train.shape)\n",
    "print(X_test.shape, y_test.shape)"
   ]
  },
  {
   "cell_type": "code",
   "execution_count": 213,
   "metadata": {},
   "outputs": [
    {
     "data": {
      "text/plain": [
       "LinearRegression()"
      ]
     },
     "execution_count": 213,
     "metadata": {},
     "output_type": "execute_result"
    }
   ],
   "source": [
    "#Applying Multiple Linear Regression model and training the model\n",
    "from sklearn.linear_model import LinearRegression  \n",
    "MLR1 = LinearRegression()  \n",
    "MLR1.fit(X_train, y_train)"
   ]
  },
  {
   "cell_type": "code",
   "execution_count": 214,
   "metadata": {},
   "outputs": [
    {
     "name": "stdout",
     "output_type": "stream",
     "text": [
      "[-0.12689555  0.02031047 -0.49592293  0.15522452]\n"
     ]
    }
   ],
   "source": [
    "print(MLR1.coef_)    #Checking the coefficients"
   ]
  },
  {
   "cell_type": "code",
   "execution_count": 215,
   "metadata": {},
   "outputs": [],
   "source": [
    "#predicting with test data\n",
    "y_pred = MLR1.predict(X_test)"
   ]
  },
  {
   "cell_type": "code",
   "execution_count": 216,
   "metadata": {},
   "outputs": [
    {
     "name": "stdout",
     "output_type": "stream",
     "text": [
      "MAE= 6.325325427253196\n",
      "MSE= 68.374612343091\n",
      "R^2 SCORE= 0.6525792232790719\n"
     ]
    }
   ],
   "source": [
    "from sklearn.metrics import mean_absolute_error,mean_squared_error,r2_score\n",
    "mae=mean_absolute_error(y_test, y_pred)\n",
    "mse=(mean_squared_error(y_test,y_pred))\n",
    "r2 = r2_score(y_test,y_pred) \n",
    "print(\"MAE=\", mae)\n",
    "print(\"MSE=\", mse)\n",
    "print(\"R^2 SCORE=\", r2)"
   ]
  },
  {
   "cell_type": "markdown",
   "metadata": {},
   "source": [
    "**The performance of this MLR model is average! We would go for other models to get a better model performance.**"
   ]
  },
  {
   "cell_type": "markdown",
   "metadata": {},
   "source": [
    "**Backward Elimination**"
   ]
  },
  {
   "cell_type": "markdown",
   "metadata": {},
   "source": [
    "**Using OLS method to improve the model.**"
   ]
  },
  {
   "cell_type": "code",
   "execution_count": 217,
   "metadata": {},
   "outputs": [],
   "source": [
    "import statsmodels.api as sm"
   ]
  },
  {
   "cell_type": "code",
   "execution_count": 218,
   "metadata": {},
   "outputs": [
    {
     "data": {
      "text/html": [
       "<table class=\"simpletable\">\n",
       "<caption>OLS Regression Results</caption>\n",
       "<tr>\n",
       "  <th>Dep. Variable:</th>       <td>variable 2</td>    <th>  R-squared (uncentered):</th>      <td>   0.999</td>\n",
       "</tr>\n",
       "<tr>\n",
       "  <th>Model:</th>                   <td>OLS</td>       <th>  Adj. R-squared (uncentered):</th> <td>   0.999</td>\n",
       "</tr>\n",
       "<tr>\n",
       "  <th>Method:</th>             <td>Least Squares</td>  <th>  F-statistic:       </th>          <td>   9178.</td>\n",
       "</tr>\n",
       "<tr>\n",
       "  <th>Date:</th>             <td>Sat, 10 Oct 2020</td> <th>  Prob (F-statistic):</th>          <td>2.50e-67</td>\n",
       "</tr>\n",
       "<tr>\n",
       "  <th>Time:</th>                 <td>18:32:17</td>     <th>  Log-Likelihood:    </th>          <td> -178.50</td>\n",
       "</tr>\n",
       "<tr>\n",
       "  <th>No. Observations:</th>      <td>    51</td>      <th>  AIC:               </th>          <td>   365.0</td>\n",
       "</tr>\n",
       "<tr>\n",
       "  <th>Df Residuals:</th>          <td>    47</td>      <th>  BIC:               </th>          <td>   372.7</td>\n",
       "</tr>\n",
       "<tr>\n",
       "  <th>Df Model:</th>              <td>     4</td>      <th>                     </th>              <td> </td>   \n",
       "</tr>\n",
       "<tr>\n",
       "  <th>Covariance Type:</th>      <td>nonrobust</td>    <th>                     </th>              <td> </td>   \n",
       "</tr>\n",
       "</table>\n",
       "<table class=\"simpletable\">\n",
       "<tr>\n",
       "       <td></td>         <th>coef</th>     <th>std err</th>      <th>t</th>      <th>P>|t|</th>  <th>[0.025</th>    <th>0.975]</th>  \n",
       "</tr>\n",
       "<tr>\n",
       "  <th>variable 3</th> <td>   -0.1314</td> <td>    0.095</td> <td>   -1.383</td> <td> 0.173</td> <td>   -0.322</td> <td>    0.060</td>\n",
       "</tr>\n",
       "<tr>\n",
       "  <th>variable 4</th> <td>    0.0150</td> <td>    0.003</td> <td>    5.550</td> <td> 0.000</td> <td>    0.010</td> <td>    0.020</td>\n",
       "</tr>\n",
       "<tr>\n",
       "  <th>variable 5</th> <td>    1.6078</td> <td>    0.041</td> <td>   39.109</td> <td> 0.000</td> <td>    1.525</td> <td>    1.691</td>\n",
       "</tr>\n",
       "<tr>\n",
       "  <th>variable 7</th> <td>    0.1901</td> <td>    0.100</td> <td>    1.897</td> <td> 0.064</td> <td>   -0.011</td> <td>    0.392</td>\n",
       "</tr>\n",
       "</table>\n",
       "<table class=\"simpletable\">\n",
       "<tr>\n",
       "  <th>Omnibus:</th>       <td> 7.186</td> <th>  Durbin-Watson:     </th> <td>   2.066</td>\n",
       "</tr>\n",
       "<tr>\n",
       "  <th>Prob(Omnibus):</th> <td> 0.028</td> <th>  Jarque-Bera (JB):  </th> <td>   6.723</td>\n",
       "</tr>\n",
       "<tr>\n",
       "  <th>Skew:</th>          <td>-0.884</td> <th>  Prob(JB):          </th> <td>  0.0347</td>\n",
       "</tr>\n",
       "<tr>\n",
       "  <th>Kurtosis:</th>      <td> 3.190</td> <th>  Cond. No.          </th> <td>    128.</td>\n",
       "</tr>\n",
       "</table><br/><br/>Warnings:<br/>[1] Standard Errors assume that the covariance matrix of the errors is correctly specified."
      ],
      "text/plain": [
       "<class 'statsmodels.iolib.summary.Summary'>\n",
       "\"\"\"\n",
       "                                 OLS Regression Results                                \n",
       "=======================================================================================\n",
       "Dep. Variable:             variable 2   R-squared (uncentered):                   0.999\n",
       "Model:                            OLS   Adj. R-squared (uncentered):              0.999\n",
       "Method:                 Least Squares   F-statistic:                              9178.\n",
       "Date:                Sat, 10 Oct 2020   Prob (F-statistic):                    2.50e-67\n",
       "Time:                        18:32:17   Log-Likelihood:                         -178.50\n",
       "No. Observations:                  51   AIC:                                      365.0\n",
       "Df Residuals:                      47   BIC:                                      372.7\n",
       "Df Model:                           4                                                  \n",
       "Covariance Type:            nonrobust                                                  \n",
       "==============================================================================\n",
       "                 coef    std err          t      P>|t|      [0.025      0.975]\n",
       "------------------------------------------------------------------------------\n",
       "variable 3    -0.1314      0.095     -1.383      0.173      -0.322       0.060\n",
       "variable 4     0.0150      0.003      5.550      0.000       0.010       0.020\n",
       "variable 5     1.6078      0.041     39.109      0.000       1.525       1.691\n",
       "variable 7     0.1901      0.100      1.897      0.064      -0.011       0.392\n",
       "==============================================================================\n",
       "Omnibus:                        7.186   Durbin-Watson:                   2.066\n",
       "Prob(Omnibus):                  0.028   Jarque-Bera (JB):                6.723\n",
       "Skew:                          -0.884   Prob(JB):                       0.0347\n",
       "Kurtosis:                       3.190   Cond. No.                         128.\n",
       "==============================================================================\n",
       "\n",
       "Warnings:\n",
       "[1] Standard Errors assume that the covariance matrix of the errors is correctly specified.\n",
       "\"\"\""
      ]
     },
     "execution_count": 218,
     "metadata": {},
     "output_type": "execute_result"
    }
   ],
   "source": [
    "X_opt = X_train[['variable 3','variable 4', 'variable 5', 'variable 7']]\n",
    "regressor_OLS = sm.OLS(endog = y_train, exog = X_opt).fit()\n",
    "regressor_OLS.summary()"
   ]
  },
  {
   "cell_type": "code",
   "execution_count": 219,
   "metadata": {},
   "outputs": [
    {
     "name": "stdout",
     "output_type": "stream",
     "text": [
      "69.66232914804539\n",
      "50208.840055313725\n"
     ]
    }
   ],
   "source": [
    "print(regressor_OLS.mse_resid) #Mean squared errors of the residuals\n",
    "print(regressor_OLS.mse_total) #Total Mean Squared errors "
   ]
  },
  {
   "cell_type": "markdown",
   "metadata": {},
   "source": [
    "**As per the OLS summary, p-value of all the variables are less than 0.05 except variable 3 and variable 7 and the adjusted R-Squared value is 0.999. Which is really awesome. Here we have to go for Back Elimination. OLS model is doing great!**"
   ]
  },
  {
   "cell_type": "markdown",
   "metadata": {},
   "source": [
    "**Let's try the Ridge regression once.**"
   ]
  },
  {
   "cell_type": "code",
   "execution_count": 220,
   "metadata": {},
   "outputs": [],
   "source": [
    "from sklearn.linear_model import Ridge\n",
    "R=Ridge(alpha=0.0001)           #creating the object"
   ]
  },
  {
   "cell_type": "code",
   "execution_count": 221,
   "metadata": {},
   "outputs": [
    {
     "data": {
      "text/plain": [
       "Ridge(alpha=0.0001)"
      ]
     },
     "execution_count": 221,
     "metadata": {},
     "output_type": "execute_result"
    }
   ],
   "source": [
    "R.fit(X_train,y_train)        #fitting the training data"
   ]
  },
  {
   "cell_type": "code",
   "execution_count": 222,
   "metadata": {},
   "outputs": [],
   "source": [
    "y2_pred=R.predict(X_test)     #predicting the result on test data"
   ]
  },
  {
   "cell_type": "code",
   "execution_count": 223,
   "metadata": {},
   "outputs": [
    {
     "name": "stdout",
     "output_type": "stream",
     "text": [
      "MAE= 6.325325966598873\n",
      "MSE= 68.37462526661193\n",
      "R^2 SCORE= 0.6525791576128909\n"
     ]
    }
   ],
   "source": [
    "mae=mean_absolute_error(y_test, y2_pred)\n",
    "mse=(mean_squared_error(y_test,y2_pred))\n",
    "r2 = r2_score(y_test,y2_pred) \n",
    "print(\"MAE=\", mae)\n",
    "print(\"MSE=\", mse)\n",
    "print(\"R^2 SCORE=\", r2)"
   ]
  },
  {
   "cell_type": "markdown",
   "metadata": {},
   "source": [
    "**Our Ridge Regression model is perfoming same as the Multiple Linear Regression model. It is also acceptable.**"
   ]
  },
  {
   "cell_type": "markdown",
   "metadata": {},
   "source": [
    "**Applying Random Forest regressor**"
   ]
  },
  {
   "cell_type": "code",
   "execution_count": 224,
   "metadata": {},
   "outputs": [
    {
     "data": {
      "text/plain": [
       "RandomForestRegressor()"
      ]
     },
     "execution_count": 224,
     "metadata": {},
     "output_type": "execute_result"
    }
   ],
   "source": [
    "from sklearn.ensemble import RandomForestRegressor\n",
    "rfr=RandomForestRegressor()\n",
    "rfr.fit(X_train,y_train)"
   ]
  },
  {
   "cell_type": "code",
   "execution_count": 225,
   "metadata": {},
   "outputs": [],
   "source": [
    "y3_pred=rfr.predict(X_test)"
   ]
  },
  {
   "cell_type": "code",
   "execution_count": 226,
   "metadata": {},
   "outputs": [
    {
     "name": "stdout",
     "output_type": "stream",
     "text": [
      "MAE= 2.4832253846154493\n",
      "MSE= 19.992303174030457\n",
      "R^2 SCORE= 0.8984163674331416\n"
     ]
    }
   ],
   "source": [
    "mae=mean_absolute_error(y_test, y3_pred)\n",
    "mse=(mean_squared_error(y_test,y3_pred))\n",
    "r2 = r2_score(y_test,y3_pred) \n",
    "print(\"MAE=\", mae)\n",
    "print(\"MSE=\", mse)\n",
    "print(\"R^2 SCORE=\", r2)"
   ]
  },
  {
   "cell_type": "markdown",
   "metadata": {},
   "source": [
    "**So, Random Forest regressor is working awesome here. It shows accuracy as high as 90% approx and the Mean Squared Error is as low as 20 approx.**"
   ]
  },
  {
   "cell_type": "markdown",
   "metadata": {},
   "source": [
    "**Let's check our MLR model after Back Elimination as per the OLS method.**"
   ]
  },
  {
   "cell_type": "code",
   "execution_count": 228,
   "metadata": {},
   "outputs": [],
   "source": [
    "#Set the independent and dependent variable\n",
    "X2=data[['variable 4','variable 5']]\n",
    "y2=data['variable 2']"
   ]
  },
  {
   "cell_type": "code",
   "execution_count": 229,
   "metadata": {},
   "outputs": [],
   "source": [
    "#splitting the dataset using Scikit-Learn library\n",
    "from sklearn.model_selection import train_test_split  \n",
    "X2_train, X2_test, y2_train, y2_test = train_test_split(X2, y2,test_size=0.20, random_state=70)"
   ]
  },
  {
   "cell_type": "markdown",
   "metadata": {},
   "source": [
    "**Now we will try another MLR model with this processed data.**"
   ]
  },
  {
   "cell_type": "code",
   "execution_count": 230,
   "metadata": {},
   "outputs": [
    {
     "data": {
      "text/plain": [
       "LinearRegression()"
      ]
     },
     "execution_count": 230,
     "metadata": {},
     "output_type": "execute_result"
    }
   ],
   "source": [
    "#Applying Multiple Linear Regression model and training the model\n",
    "from sklearn.linear_model import LinearRegression  \n",
    "MLR3 = LinearRegression()  \n",
    "MLR3.fit(X2_train, y2_train)"
   ]
  },
  {
   "cell_type": "code",
   "execution_count": 231,
   "metadata": {},
   "outputs": [],
   "source": [
    "#predicting with test data\n",
    "y5_pred = MLR3.predict(X2_test)"
   ]
  },
  {
   "cell_type": "code",
   "execution_count": 232,
   "metadata": {},
   "outputs": [
    {
     "name": "stdout",
     "output_type": "stream",
     "text": [
      "MAE= 6.388969009288907\n",
      "MSE= 65.02913067677221\n",
      "R^2 SCORE= 0.7066960329457868\n"
     ]
    }
   ],
   "source": [
    "#getting the performance metrics\n",
    "from sklearn.metrics import mean_absolute_error,mean_squared_error,r2_score\n",
    "mae=mean_absolute_error(y2_test, y5_pred)\n",
    "mse=mean_squared_error(y2_test,y5_pred)\n",
    "r2 = r2_score(y2_test,y5_pred) \n",
    "print(\"MAE=\", mae)\n",
    "print(\"MSE=\", mse)\n",
    "print(\"R^2 SCORE=\", r2)"
   ]
  },
  {
   "cell_type": "markdown",
   "metadata": {},
   "source": [
    "**As a conclusion we can say the OLS method performs best, comes up with adjusted R-squared value of 0.999. And Multiple Linear Regression and Ridge regression are doing approximately same. The final MLR model is performing quiet better than the previous model after performing back elimination.\n",
    "Random Forest is doing awesome with nearly 90% accuracy, we can consider it as one of the best working model.**"
   ]
  },
  {
   "cell_type": "code",
   "execution_count": 33,
   "metadata": {},
   "outputs": [],
   "source": [
    "plt.scatter?"
   ]
  },
  {
   "cell_type": "code",
   "execution_count": null,
   "metadata": {},
   "outputs": [],
   "source": []
  }
 ],
 "metadata": {
  "kernelspec": {
   "display_name": "Python 3",
   "language": "python",
   "name": "python3"
  },
  "language_info": {
   "codemirror_mode": {
    "name": "ipython",
    "version": 3
   },
   "file_extension": ".py",
   "mimetype": "text/x-python",
   "name": "python",
   "nbconvert_exporter": "python",
   "pygments_lexer": "ipython3",
   "version": "3.8.3"
  }
 },
 "nbformat": 4,
 "nbformat_minor": 4
}
